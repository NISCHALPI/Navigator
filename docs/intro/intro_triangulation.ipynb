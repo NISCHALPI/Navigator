{
 "cells": [
  {
   "cell_type": "markdown",
   "metadata": {},
   "source": [
    "## Triangulation Using Navigator Module\n",
    "This intro with demonstrate how to use the navigator module to triangulate IGS data or any RinexV3 data, do some basic data analysis of the results, see VDOPS, TDOPS, and GDOPS, and plot the results on a map."
   ]
  },
  {
   "cell_type": "markdown",
   "metadata": {},
   "source": [
    "### Triangulation Interface\n",
    "\n",
    "\n"
   ]
  },
  {
   "cell_type": "markdown",
   "metadata": {},
   "source": [
    "The triangulation API is designed using and interface design. The main class user needs to know about is the `Triangulate` class in satlib submodule.\n",
    "\n",
    "The `Triangulate` class always works with an interface class. These are hard coded algorathims to perform GNSS triangulation!\n",
    "Currently, two interface are provided: `IterativeTriangulationInterface` which used WLS to perform triangulation and `UnscentedKalmanTriangulationInterface` which uses UKF to perform triangulation."
   ]
  },
  {
   "cell_type": "markdown",
   "metadata": {},
   "source": [
    "Let's start by importing the necessary modules and defining the interface object.\n"
   ]
  },
  {
   "cell_type": "code",
   "execution_count": 1,
   "metadata": {},
   "outputs": [],
   "source": [
    "%load_ext autoreload\n",
    "%autoreload 2\n",
    "# These can be imported from top level of satlib\n",
    "from navigator.core import Triangulate\n",
    "from navigator.core import IterativeTriangulationInterface\n",
    "\n",
    "\n",
    "# Create a triangulation object\n",
    "traingulator = Triangulate(interface=IterativeTriangulationInterface())"
   ]
  },
  {
   "cell_type": "markdown",
   "metadata": {},
   "source": [
    "The triangulator object works with `Epoch` object which is the stander format for the navigator module. See `navigator.utils.epoch.Epoch` for more details. \n",
    "Let's load the data from an `EpochDirectory`. See `navigator.docs.intro.epoch_directory_tutorial` for more details on how to create an `EpochDirectory` from RinexV3 data."
   ]
  },
  {
   "cell_type": "code",
   "execution_count": 2,
   "metadata": {},
   "outputs": [],
   "source": [
    "from navigator.utility import EpochDirectory\n",
    "from pathlib import Path\n",
    "\n",
    "# The data is currently stored in a top level directory. This is not accessible from another computer.\n",
    "# User need to download the data and create theri own epoch directory.\n",
    "epoch_dir_path = Path('../../../Data/RinexEpoch/')\n",
    "epoch_dir = EpochDirectory(epoch_dir_path)"
   ]
  },
  {
   "cell_type": "markdown",
   "metadata": {},
   "source": [
    "Let's see what stations are available in the `EpochDirectory`. This was created using IGS stations, so the station attribute lists the IGS station name."
   ]
  },
  {
   "cell_type": "code",
   "execution_count": 3,
   "metadata": {},
   "outputs": [
    {
     "data": {
      "text/plain": [
       "['USUD00JPN',\n",
       " 'VACS00MUS',\n",
       " 'FALK00FLK',\n",
       " 'HKSL00HKG',\n",
       " 'HAL100USA',\n",
       " 'CKSV00TWN',\n",
       " 'MGO400USA',\n",
       " 'ZAMB00ZMB',\n",
       " 'ARHT00ATA',\n",
       " 'FUNC00PRT']"
      ]
     },
     "execution_count": 3,
     "metadata": {},
     "output_type": "execute_result"
    }
   ],
   "source": [
    "epoch_dir.stations[:10]"
   ]
  },
  {
   "cell_type": "markdown",
   "metadata": {},
   "source": [
    "Let's get an iterator for a station. This will iterate through all epochs for the station and return an `iterator[Epoch]` object."
   ]
  },
  {
   "cell_type": "code",
   "execution_count": 4,
   "metadata": {},
   "outputs": [],
   "source": [
    "station = 'FALK00FLK'\n",
    "# Get the data for a station from the epoch directory\n",
    "# This is a generator which is converted to a list of demonstation purposes\n",
    "station_data = list(epoch_dir.get_by_station(station=station))"
   ]
  },
  {
   "cell_type": "markdown",
   "metadata": {},
   "source": [
    "Let's see how many epoch of observations we have for this station."
   ]
  },
  {
   "cell_type": "code",
   "execution_count": 5,
   "metadata": {},
   "outputs": [
    {
     "data": {
      "text/plain": [
       "2880"
      ]
     },
     "execution_count": 5,
     "metadata": {},
     "output_type": "execute_result"
    }
   ],
   "source": [
    "len(station_data)"
   ]
  },
  {
   "cell_type": "markdown",
   "metadata": {},
   "source": [
    "That's a lot of epochs! Let's just get the first 1000 epochs for sake of demonstration. But before we do that, let's sort the epochs by time so we get a linear time series."
   ]
  },
  {
   "cell_type": "code",
   "execution_count": 6,
   "metadata": {},
   "outputs": [],
   "source": [
    "# Epoch object from same station are comparable with each other\n",
    "station_data = sorted(station_data)"
   ]
  },
  {
   "cell_type": "code",
   "execution_count": 7,
   "metadata": {},
   "outputs": [],
   "source": [
    "station_data = station_data[:1000]"
   ]
  },
  {
   "cell_type": "markdown",
   "metadata": {},
   "source": [
    "Let's see how the data looks like. We can see that the data is sorted by time."
   ]
  },
  {
   "cell_type": "code",
   "execution_count": 8,
   "metadata": {},
   "outputs": [
    {
     "data": {
      "text/plain": [
       "[Epoch(timestamp=2022-12-03 00:00:00, sv=7),\n",
       " Epoch(timestamp=2022-12-03 00:00:30, sv=7),\n",
       " Epoch(timestamp=2022-12-03 00:01:00, sv=7),\n",
       " Epoch(timestamp=2022-12-03 00:01:30, sv=7),\n",
       " Epoch(timestamp=2022-12-03 00:02:00, sv=7),\n",
       " Epoch(timestamp=2022-12-03 00:02:30, sv=7),\n",
       " Epoch(timestamp=2022-12-03 00:03:00, sv=7),\n",
       " Epoch(timestamp=2022-12-03 00:03:30, sv=7),\n",
       " Epoch(timestamp=2022-12-03 00:04:00, sv=7),\n",
       " Epoch(timestamp=2022-12-03 00:04:30, sv=7)]"
      ]
     },
     "execution_count": 8,
     "metadata": {},
     "output_type": "execute_result"
    }
   ],
   "source": [
    "station_data[:10]"
   ]
  },
  {
   "cell_type": "markdown",
   "metadata": {},
   "source": [
    "What does a epoch contain exactly? Let's look at the first epoch."
   ]
  },
  {
   "cell_type": "code",
   "execution_count": 9,
   "metadata": {},
   "outputs": [
    {
     "data": {
      "text/plain": [
       "Epoch(timestamp=2022-12-03 00:00:00, sv=7)"
      ]
     },
     "execution_count": 9,
     "metadata": {},
     "output_type": "execute_result"
    }
   ],
   "source": [
    "station_data[0]"
   ]
  },
  {
   "cell_type": "markdown",
   "metadata": {},
   "source": [
    "This gives the information that the epoch is at '2022-03-18 00:00:00' at reciever time. It contains navigation data and observation data which is needed to perform triangulation for 6 satllietes."
   ]
  },
  {
   "cell_type": "code",
   "execution_count": 10,
   "metadata": {},
   "outputs": [
    {
     "data": {
      "text/html": [
       "<div>\n",
       "<style scoped>\n",
       "    .dataframe tbody tr th:only-of-type {\n",
       "        vertical-align: middle;\n",
       "    }\n",
       "\n",
       "    .dataframe tbody tr th {\n",
       "        vertical-align: top;\n",
       "    }\n",
       "\n",
       "    .dataframe thead th {\n",
       "        text-align: right;\n",
       "    }\n",
       "</style>\n",
       "<table border=\"1\" class=\"dataframe\">\n",
       "  <thead>\n",
       "    <tr style=\"text-align: right;\">\n",
       "      <th></th>\n",
       "      <th></th>\n",
       "      <th>SVclockBias</th>\n",
       "      <th>SVclockDrift</th>\n",
       "      <th>SVclockDriftRate</th>\n",
       "      <th>IODE</th>\n",
       "      <th>Crs</th>\n",
       "      <th>DeltaN</th>\n",
       "      <th>M0</th>\n",
       "      <th>Cuc</th>\n",
       "      <th>Eccentricity</th>\n",
       "      <th>Cus</th>\n",
       "      <th>...</th>\n",
       "      <th>GPSWeek</th>\n",
       "      <th>L2Pflag</th>\n",
       "      <th>SVacc</th>\n",
       "      <th>health</th>\n",
       "      <th>TGD</th>\n",
       "      <th>IODC</th>\n",
       "      <th>TransTime</th>\n",
       "      <th>FitIntvl</th>\n",
       "      <th>spare0</th>\n",
       "      <th>spare1</th>\n",
       "    </tr>\n",
       "    <tr>\n",
       "      <th>time</th>\n",
       "      <th>sv</th>\n",
       "      <th></th>\n",
       "      <th></th>\n",
       "      <th></th>\n",
       "      <th></th>\n",
       "      <th></th>\n",
       "      <th></th>\n",
       "      <th></th>\n",
       "      <th></th>\n",
       "      <th></th>\n",
       "      <th></th>\n",
       "      <th></th>\n",
       "      <th></th>\n",
       "      <th></th>\n",
       "      <th></th>\n",
       "      <th></th>\n",
       "      <th></th>\n",
       "      <th></th>\n",
       "      <th></th>\n",
       "      <th></th>\n",
       "      <th></th>\n",
       "      <th></th>\n",
       "    </tr>\n",
       "  </thead>\n",
       "  <tbody>\n",
       "    <tr>\n",
       "      <th rowspan=\"5\" valign=\"top\">2022-12-03</th>\n",
       "      <th>G01</th>\n",
       "      <td>0.000243</td>\n",
       "      <td>-5.343281e-12</td>\n",
       "      <td>0.0</td>\n",
       "      <td>83.0</td>\n",
       "      <td>-25.03125</td>\n",
       "      <td>3.699797e-09</td>\n",
       "      <td>-1.216359</td>\n",
       "      <td>-0.000001</td>\n",
       "      <td>0.012085</td>\n",
       "      <td>0.000011</td>\n",
       "      <td>...</td>\n",
       "      <td>2238.0</td>\n",
       "      <td>0.0</td>\n",
       "      <td>2.0</td>\n",
       "      <td>0.0</td>\n",
       "      <td>4.656613e-09</td>\n",
       "      <td>83.0</td>\n",
       "      <td>511218.0</td>\n",
       "      <td>4.0</td>\n",
       "      <td>NaN</td>\n",
       "      <td>NaN</td>\n",
       "    </tr>\n",
       "    <tr>\n",
       "      <th>G03</th>\n",
       "      <td>-0.000375</td>\n",
       "      <td>-7.958079e-13</td>\n",
       "      <td>0.0</td>\n",
       "      <td>39.0</td>\n",
       "      <td>19.65625</td>\n",
       "      <td>4.295179e-09</td>\n",
       "      <td>-2.346433</td>\n",
       "      <td>0.000001</td>\n",
       "      <td>0.004425</td>\n",
       "      <td>0.000007</td>\n",
       "      <td>...</td>\n",
       "      <td>2238.0</td>\n",
       "      <td>0.0</td>\n",
       "      <td>2.0</td>\n",
       "      <td>0.0</td>\n",
       "      <td>1.862645e-09</td>\n",
       "      <td>39.0</td>\n",
       "      <td>511218.0</td>\n",
       "      <td>4.0</td>\n",
       "      <td>NaN</td>\n",
       "      <td>NaN</td>\n",
       "    </tr>\n",
       "    <tr>\n",
       "      <th>G04</th>\n",
       "      <td>-0.000076</td>\n",
       "      <td>6.934897e-12</td>\n",
       "      <td>0.0</td>\n",
       "      <td>26.0</td>\n",
       "      <td>-55.96875</td>\n",
       "      <td>4.706982e-09</td>\n",
       "      <td>0.673912</td>\n",
       "      <td>-0.000003</td>\n",
       "      <td>0.002201</td>\n",
       "      <td>0.000007</td>\n",
       "      <td>...</td>\n",
       "      <td>2238.0</td>\n",
       "      <td>0.0</td>\n",
       "      <td>2.0</td>\n",
       "      <td>0.0</td>\n",
       "      <td>-4.656613e-09</td>\n",
       "      <td>538.0</td>\n",
       "      <td>511626.0</td>\n",
       "      <td>4.0</td>\n",
       "      <td>NaN</td>\n",
       "      <td>NaN</td>\n",
       "    </tr>\n",
       "    <tr>\n",
       "      <th>G06</th>\n",
       "      <td>0.000532</td>\n",
       "      <td>8.299139e-12</td>\n",
       "      <td>0.0</td>\n",
       "      <td>57.0</td>\n",
       "      <td>-33.84375</td>\n",
       "      <td>3.749442e-09</td>\n",
       "      <td>-0.932171</td>\n",
       "      <td>-0.000002</td>\n",
       "      <td>0.002696</td>\n",
       "      <td>0.000010</td>\n",
       "      <td>...</td>\n",
       "      <td>2238.0</td>\n",
       "      <td>0.0</td>\n",
       "      <td>2.0</td>\n",
       "      <td>0.0</td>\n",
       "      <td>3.725290e-09</td>\n",
       "      <td>57.0</td>\n",
       "      <td>517122.0</td>\n",
       "      <td>4.0</td>\n",
       "      <td>NaN</td>\n",
       "      <td>NaN</td>\n",
       "    </tr>\n",
       "    <tr>\n",
       "      <th>G09</th>\n",
       "      <td>-0.000260</td>\n",
       "      <td>5.911716e-12</td>\n",
       "      <td>0.0</td>\n",
       "      <td>98.0</td>\n",
       "      <td>-54.34375</td>\n",
       "      <td>4.865917e-09</td>\n",
       "      <td>1.390252</td>\n",
       "      <td>-0.000003</td>\n",
       "      <td>0.002655</td>\n",
       "      <td>0.000006</td>\n",
       "      <td>...</td>\n",
       "      <td>2238.0</td>\n",
       "      <td>0.0</td>\n",
       "      <td>2.0</td>\n",
       "      <td>0.0</td>\n",
       "      <td>9.313226e-10</td>\n",
       "      <td>98.0</td>\n",
       "      <td>516102.0</td>\n",
       "      <td>4.0</td>\n",
       "      <td>NaN</td>\n",
       "      <td>NaN</td>\n",
       "    </tr>\n",
       "  </tbody>\n",
       "</table>\n",
       "<p>5 rows × 31 columns</p>\n",
       "</div>"
      ],
      "text/plain": [
       "                SVclockBias  SVclockDrift  SVclockDriftRate  IODE       Crs  \\\n",
       "time       sv                                                                 \n",
       "2022-12-03 G01     0.000243 -5.343281e-12               0.0  83.0 -25.03125   \n",
       "           G03    -0.000375 -7.958079e-13               0.0  39.0  19.65625   \n",
       "           G04    -0.000076  6.934897e-12               0.0  26.0 -55.96875   \n",
       "           G06     0.000532  8.299139e-12               0.0  57.0 -33.84375   \n",
       "           G09    -0.000260  5.911716e-12               0.0  98.0 -54.34375   \n",
       "\n",
       "                      DeltaN        M0       Cuc  Eccentricity       Cus  ...  \\\n",
       "time       sv                                                             ...   \n",
       "2022-12-03 G01  3.699797e-09 -1.216359 -0.000001      0.012085  0.000011  ...   \n",
       "           G03  4.295179e-09 -2.346433  0.000001      0.004425  0.000007  ...   \n",
       "           G04  4.706982e-09  0.673912 -0.000003      0.002201  0.000007  ...   \n",
       "           G06  3.749442e-09 -0.932171 -0.000002      0.002696  0.000010  ...   \n",
       "           G09  4.865917e-09  1.390252 -0.000003      0.002655  0.000006  ...   \n",
       "\n",
       "                GPSWeek  L2Pflag  SVacc  health           TGD   IODC  \\\n",
       "time       sv                                                          \n",
       "2022-12-03 G01   2238.0      0.0    2.0     0.0  4.656613e-09   83.0   \n",
       "           G03   2238.0      0.0    2.0     0.0  1.862645e-09   39.0   \n",
       "           G04   2238.0      0.0    2.0     0.0 -4.656613e-09  538.0   \n",
       "           G06   2238.0      0.0    2.0     0.0  3.725290e-09   57.0   \n",
       "           G09   2238.0      0.0    2.0     0.0  9.313226e-10   98.0   \n",
       "\n",
       "                TransTime  FitIntvl  spare0  spare1  \n",
       "time       sv                                        \n",
       "2022-12-03 G01   511218.0       4.0     NaN     NaN  \n",
       "           G03   511218.0       4.0     NaN     NaN  \n",
       "           G04   511626.0       4.0     NaN     NaN  \n",
       "           G06   517122.0       4.0     NaN     NaN  \n",
       "           G09   516102.0       4.0     NaN     NaN  \n",
       "\n",
       "[5 rows x 31 columns]"
      ]
     },
     "execution_count": 10,
     "metadata": {},
     "output_type": "execute_result"
    }
   ],
   "source": [
    "# Lets see the nav data\n",
    "station_data[0].nav_data.head()"
   ]
  },
  {
   "cell_type": "code",
   "execution_count": 11,
   "metadata": {},
   "outputs": [
    {
     "data": {
      "text/html": [
       "<div>\n",
       "<style scoped>\n",
       "    .dataframe tbody tr th:only-of-type {\n",
       "        vertical-align: middle;\n",
       "    }\n",
       "\n",
       "    .dataframe tbody tr th {\n",
       "        vertical-align: top;\n",
       "    }\n",
       "\n",
       "    .dataframe thead th {\n",
       "        text-align: right;\n",
       "    }\n",
       "</style>\n",
       "<table border=\"1\" class=\"dataframe\">\n",
       "  <thead>\n",
       "    <tr style=\"text-align: right;\">\n",
       "      <th></th>\n",
       "      <th>C1C</th>\n",
       "      <th>L1C</th>\n",
       "      <th>S1C</th>\n",
       "      <th>C1W</th>\n",
       "      <th>S1W</th>\n",
       "      <th>C2W</th>\n",
       "      <th>L2W</th>\n",
       "      <th>S2W</th>\n",
       "      <th>C2L</th>\n",
       "      <th>L2L</th>\n",
       "      <th>S2L</th>\n",
       "      <th>C5Q</th>\n",
       "      <th>L5Q</th>\n",
       "      <th>S5Q</th>\n",
       "      <th>C1L</th>\n",
       "      <th>L1L</th>\n",
       "      <th>S1L</th>\n",
       "    </tr>\n",
       "    <tr>\n",
       "      <th>sv</th>\n",
       "      <th></th>\n",
       "      <th></th>\n",
       "      <th></th>\n",
       "      <th></th>\n",
       "      <th></th>\n",
       "      <th></th>\n",
       "      <th></th>\n",
       "      <th></th>\n",
       "      <th></th>\n",
       "      <th></th>\n",
       "      <th></th>\n",
       "      <th></th>\n",
       "      <th></th>\n",
       "      <th></th>\n",
       "      <th></th>\n",
       "      <th></th>\n",
       "      <th></th>\n",
       "    </tr>\n",
       "  </thead>\n",
       "  <tbody>\n",
       "    <tr>\n",
       "      <th>G01</th>\n",
       "      <td>2.170979e+07</td>\n",
       "      <td>1.140858e+08</td>\n",
       "      <td>47.000</td>\n",
       "      <td>2.170979e+07</td>\n",
       "      <td>38.125</td>\n",
       "      <td>2.170980e+07</td>\n",
       "      <td>8.889805e+07</td>\n",
       "      <td>38.125</td>\n",
       "      <td>2.170980e+07</td>\n",
       "      <td>8.889805e+07</td>\n",
       "      <td>45.219</td>\n",
       "      <td>2.170979e+07</td>\n",
       "      <td>8.519392e+07</td>\n",
       "      <td>42.000</td>\n",
       "      <td>NaN</td>\n",
       "      <td>NaN</td>\n",
       "      <td>NaN</td>\n",
       "    </tr>\n",
       "    <tr>\n",
       "      <th>G03</th>\n",
       "      <td>2.045090e+07</td>\n",
       "      <td>1.074703e+08</td>\n",
       "      <td>52.188</td>\n",
       "      <td>2.045090e+07</td>\n",
       "      <td>47.969</td>\n",
       "      <td>2.045090e+07</td>\n",
       "      <td>8.374318e+07</td>\n",
       "      <td>47.969</td>\n",
       "      <td>2.045090e+07</td>\n",
       "      <td>8.374316e+07</td>\n",
       "      <td>50.406</td>\n",
       "      <td>2.045090e+07</td>\n",
       "      <td>8.025382e+07</td>\n",
       "      <td>46.000</td>\n",
       "      <td>NaN</td>\n",
       "      <td>NaN</td>\n",
       "      <td>NaN</td>\n",
       "    </tr>\n",
       "    <tr>\n",
       "      <th>G04</th>\n",
       "      <td>2.109676e+07</td>\n",
       "      <td>1.108643e+08</td>\n",
       "      <td>48.500</td>\n",
       "      <td>2.109676e+07</td>\n",
       "      <td>40.406</td>\n",
       "      <td>2.109676e+07</td>\n",
       "      <td>8.638783e+07</td>\n",
       "      <td>40.406</td>\n",
       "      <td>2.109676e+07</td>\n",
       "      <td>8.638783e+07</td>\n",
       "      <td>47.812</td>\n",
       "      <td>2.109676e+07</td>\n",
       "      <td>8.278833e+07</td>\n",
       "      <td>42.938</td>\n",
       "      <td>2.109676e+07</td>\n",
       "      <td>1.108643e+08</td>\n",
       "      <td>49.188</td>\n",
       "    </tr>\n",
       "    <tr>\n",
       "      <th>G06</th>\n",
       "      <td>2.384379e+07</td>\n",
       "      <td>1.253000e+08</td>\n",
       "      <td>37.594</td>\n",
       "      <td>2.384379e+07</td>\n",
       "      <td>15.000</td>\n",
       "      <td>2.384380e+07</td>\n",
       "      <td>9.763637e+07</td>\n",
       "      <td>15.000</td>\n",
       "      <td>2.384380e+07</td>\n",
       "      <td>9.763637e+07</td>\n",
       "      <td>31.219</td>\n",
       "      <td>2.384379e+07</td>\n",
       "      <td>9.356817e+07</td>\n",
       "      <td>28.531</td>\n",
       "      <td>NaN</td>\n",
       "      <td>NaN</td>\n",
       "      <td>NaN</td>\n",
       "    </tr>\n",
       "    <tr>\n",
       "      <th>G09</th>\n",
       "      <td>2.385911e+07</td>\n",
       "      <td>1.253805e+08</td>\n",
       "      <td>40.625</td>\n",
       "      <td>2.385911e+07</td>\n",
       "      <td>26.188</td>\n",
       "      <td>2.385911e+07</td>\n",
       "      <td>9.769914e+07</td>\n",
       "      <td>26.188</td>\n",
       "      <td>2.385912e+07</td>\n",
       "      <td>9.769913e+07</td>\n",
       "      <td>39.906</td>\n",
       "      <td>2.385911e+07</td>\n",
       "      <td>9.362831e+07</td>\n",
       "      <td>35.188</td>\n",
       "      <td>NaN</td>\n",
       "      <td>NaN</td>\n",
       "      <td>NaN</td>\n",
       "    </tr>\n",
       "  </tbody>\n",
       "</table>\n",
       "</div>"
      ],
      "text/plain": [
       "              C1C           L1C     S1C           C1W     S1W           C2W  \\\n",
       "sv                                                                            \n",
       "G01  2.170979e+07  1.140858e+08  47.000  2.170979e+07  38.125  2.170980e+07   \n",
       "G03  2.045090e+07  1.074703e+08  52.188  2.045090e+07  47.969  2.045090e+07   \n",
       "G04  2.109676e+07  1.108643e+08  48.500  2.109676e+07  40.406  2.109676e+07   \n",
       "G06  2.384379e+07  1.253000e+08  37.594  2.384379e+07  15.000  2.384380e+07   \n",
       "G09  2.385911e+07  1.253805e+08  40.625  2.385911e+07  26.188  2.385911e+07   \n",
       "\n",
       "              L2W     S2W           C2L           L2L     S2L           C5Q  \\\n",
       "sv                                                                            \n",
       "G01  8.889805e+07  38.125  2.170980e+07  8.889805e+07  45.219  2.170979e+07   \n",
       "G03  8.374318e+07  47.969  2.045090e+07  8.374316e+07  50.406  2.045090e+07   \n",
       "G04  8.638783e+07  40.406  2.109676e+07  8.638783e+07  47.812  2.109676e+07   \n",
       "G06  9.763637e+07  15.000  2.384380e+07  9.763637e+07  31.219  2.384379e+07   \n",
       "G09  9.769914e+07  26.188  2.385912e+07  9.769913e+07  39.906  2.385911e+07   \n",
       "\n",
       "              L5Q     S5Q           C1L           L1L     S1L  \n",
       "sv                                                             \n",
       "G01  8.519392e+07  42.000           NaN           NaN     NaN  \n",
       "G03  8.025382e+07  46.000           NaN           NaN     NaN  \n",
       "G04  8.278833e+07  42.938  2.109676e+07  1.108643e+08  49.188  \n",
       "G06  9.356817e+07  28.531           NaN           NaN     NaN  \n",
       "G09  9.362831e+07  35.188           NaN           NaN     NaN  "
      ]
     },
     "execution_count": 11,
     "metadata": {},
     "output_type": "execute_result"
    }
   ],
   "source": [
    "# Lets see the obs data\n",
    "station_data[0].obs_data.head()"
   ]
  },
  {
   "cell_type": "markdown",
   "metadata": {},
   "source": [
    "Now we know that what the data looks like, let triangulate each epoch and get the approximate coordinate."
   ]
  },
  {
   "cell_type": "code",
   "execution_count": 12,
   "metadata": {},
   "outputs": [
    {
     "data": {
      "text/plain": [
       "x         2.106815e+06\n",
       "y        -3.355177e+06\n",
       "z        -4.981791e+06\n",
       "dt        5.879617e-03\n",
       "lat      -5.169363e+01\n",
       "lon      -5.787407e+01\n",
       "height    5.946126e+01\n",
       "GDOP      2.771213e+00\n",
       "PDOP      2.396589e+00\n",
       "TDOP      1.391396e+00\n",
       "dtype: float64"
      ]
     },
     "execution_count": 12,
     "metadata": {},
     "output_type": "execute_result"
    }
   ],
   "source": [
    "# Not let's triangulate first epoch data and see the result\n",
    "\n",
    "# Use triagulator as a callable to triangulate the data\n",
    "coords = traingulator(\n",
    "    obs=station_data[0], obs_metadata=None, nav_metadata=None\n",
    ")  # We don't need metadata usually.\n",
    "\n",
    "coords"
   ]
  },
  {
   "cell_type": "markdown",
   "metadata": {},
   "source": [
    "It returns the `x,y,z` coordinate in ECFC frame. It also converts the coordinate lat, lon, height in WGS84 frame.\n",
    "The DOPs are also calculated and returned."
   ]
  },
  {
   "cell_type": "code",
   "execution_count": 13,
   "metadata": {},
   "outputs": [],
   "source": [
    "# If user want to see the coordinates of the station in google earth, use view method of the triangulator\n",
    "\n",
    "# This will open a web browser with google earth view\n",
    "# traingulator.google_earth_view(lat=coords['lat'], lon=coords['lon'])"
   ]
  },
  {
   "cell_type": "code",
   "execution_count": 14,
   "metadata": {},
   "outputs": [],
   "source": [
    "# Lets triangulate all the data and see the result\n",
    "results = []\n",
    "\n",
    "approx_coordinate = coords[['x', 'y', 'z']]\n",
    "\n",
    "for epochs in station_data:\n",
    "    # User can use diff method to calculate the difference between real and estimated coordinates in meters. This works only if the real coordinates are available.\n",
    "    results.append(\n",
    "        traingulator.igs_diff(\n",
    "            obs=epochs,\n",
    "            approx_position=approx_coordinate,\n",
    "        )\n",
    "    )\n",
    "    # Update the approx coordinate with the new coordinate for accurate triangulation\n",
    "    approx_coordinate = results[-1][['x', 'y', 'z']]"
   ]
  },
  {
   "cell_type": "markdown",
   "metadata": {},
   "source": [
    "Let's see how the coordinate and DOPS."
   ]
  },
  {
   "cell_type": "code",
   "execution_count": 15,
   "metadata": {},
   "outputs": [
    {
     "data": {
      "text/html": [
       "<div>\n",
       "<style scoped>\n",
       "    .dataframe tbody tr th:only-of-type {\n",
       "        vertical-align: middle;\n",
       "    }\n",
       "\n",
       "    .dataframe tbody tr th {\n",
       "        vertical-align: top;\n",
       "    }\n",
       "\n",
       "    .dataframe thead th {\n",
       "        text-align: right;\n",
       "    }\n",
       "</style>\n",
       "<table border=\"1\" class=\"dataframe\">\n",
       "  <thead>\n",
       "    <tr style=\"text-align: right;\">\n",
       "      <th></th>\n",
       "      <th>x</th>\n",
       "      <th>y</th>\n",
       "      <th>z</th>\n",
       "      <th>dt</th>\n",
       "      <th>lat</th>\n",
       "      <th>lon</th>\n",
       "      <th>height</th>\n",
       "      <th>GDOP</th>\n",
       "      <th>PDOP</th>\n",
       "      <th>TDOP</th>\n",
       "      <th>diff</th>\n",
       "    </tr>\n",
       "  </thead>\n",
       "  <tbody>\n",
       "    <tr>\n",
       "      <th>995</th>\n",
       "      <td>2.106814e+06</td>\n",
       "      <td>-3.355176e+06</td>\n",
       "      <td>-4.981792e+06</td>\n",
       "      <td>0.004725</td>\n",
       "      <td>-51.693638</td>\n",
       "      <td>-57.874079</td>\n",
       "      <td>58.835511</td>\n",
       "      <td>2.559138</td>\n",
       "      <td>2.296107</td>\n",
       "      <td>1.130079</td>\n",
       "      <td>8.188702</td>\n",
       "    </tr>\n",
       "    <tr>\n",
       "      <th>996</th>\n",
       "      <td>2.106815e+06</td>\n",
       "      <td>-3.355176e+06</td>\n",
       "      <td>-4.981791e+06</td>\n",
       "      <td>0.004719</td>\n",
       "      <td>-51.693631</td>\n",
       "      <td>-57.874067</td>\n",
       "      <td>58.694096</td>\n",
       "      <td>2.544129</td>\n",
       "      <td>2.283239</td>\n",
       "      <td>1.122237</td>\n",
       "      <td>8.191402</td>\n",
       "    </tr>\n",
       "    <tr>\n",
       "      <th>997</th>\n",
       "      <td>2.106816e+06</td>\n",
       "      <td>-3.355176e+06</td>\n",
       "      <td>-4.981791e+06</td>\n",
       "      <td>0.004714</td>\n",
       "      <td>-51.693630</td>\n",
       "      <td>-57.874056</td>\n",
       "      <td>58.553504</td>\n",
       "      <td>2.529120</td>\n",
       "      <td>2.270375</td>\n",
       "      <td>1.114381</td>\n",
       "      <td>8.148176</td>\n",
       "    </tr>\n",
       "    <tr>\n",
       "      <th>998</th>\n",
       "      <td>2.106815e+06</td>\n",
       "      <td>-3.355175e+06</td>\n",
       "      <td>-4.981795e+06</td>\n",
       "      <td>0.004708</td>\n",
       "      <td>-51.693660</td>\n",
       "      <td>-57.874047</td>\n",
       "      <td>60.783037</td>\n",
       "      <td>2.514122</td>\n",
       "      <td>2.257528</td>\n",
       "      <td>1.106517</td>\n",
       "      <td>10.073979</td>\n",
       "    </tr>\n",
       "    <tr>\n",
       "      <th>999</th>\n",
       "      <td>2.106816e+06</td>\n",
       "      <td>-3.355176e+06</td>\n",
       "      <td>-4.981791e+06</td>\n",
       "      <td>0.004703</td>\n",
       "      <td>-51.693632</td>\n",
       "      <td>-57.874048</td>\n",
       "      <td>58.767820</td>\n",
       "      <td>2.499149</td>\n",
       "      <td>2.244707</td>\n",
       "      <td>1.098651</td>\n",
       "      <td>8.337586</td>\n",
       "    </tr>\n",
       "  </tbody>\n",
       "</table>\n",
       "</div>"
      ],
      "text/plain": [
       "                x             y             z        dt        lat        lon  \\\n",
       "995  2.106814e+06 -3.355176e+06 -4.981792e+06  0.004725 -51.693638 -57.874079   \n",
       "996  2.106815e+06 -3.355176e+06 -4.981791e+06  0.004719 -51.693631 -57.874067   \n",
       "997  2.106816e+06 -3.355176e+06 -4.981791e+06  0.004714 -51.693630 -57.874056   \n",
       "998  2.106815e+06 -3.355175e+06 -4.981795e+06  0.004708 -51.693660 -57.874047   \n",
       "999  2.106816e+06 -3.355176e+06 -4.981791e+06  0.004703 -51.693632 -57.874048   \n",
       "\n",
       "        height      GDOP      PDOP      TDOP       diff  \n",
       "995  58.835511  2.559138  2.296107  1.130079   8.188702  \n",
       "996  58.694096  2.544129  2.283239  1.122237   8.191402  \n",
       "997  58.553504  2.529120  2.270375  1.114381   8.148176  \n",
       "998  60.783037  2.514122  2.257528  1.106517  10.073979  \n",
       "999  58.767820  2.499149  2.244707  1.098651   8.337586  "
      ]
     },
     "execution_count": 15,
     "metadata": {},
     "output_type": "execute_result"
    }
   ],
   "source": [
    "import pandas as pd\n",
    "\n",
    "df = pd.DataFrame(results)\n",
    "df.tail()"
   ]
  },
  {
   "cell_type": "markdown",
   "metadata": {},
   "source": [
    "Let's see the distribution of difference between the estimated coordinate and the true coordinate."
   ]
  },
  {
   "cell_type": "code",
   "execution_count": 16,
   "metadata": {},
   "outputs": [
    {
     "data": {
      "text/plain": [
       "<Axes: xlabel='diff', ylabel='Count'>"
      ]
     },
     "execution_count": 16,
     "metadata": {},
     "output_type": "execute_result"
    },
    {
     "data": {
      "image/png": "[encoded data removed]",
      "text/plain": [
       "<Figure size 640x480 with 1 Axes>"
      ]
     },
     "metadata": {},
     "output_type": "display_data"
    }
   ],
   "source": [
    "import seaborn as sns\n",
    "\n",
    "sns.histplot(data=df, x='diff')"
   ]
  },
  {
   "cell_type": "markdown",
   "metadata": {},
   "source": [
    "Seem like we are geeting an accuray of 10m, okay but can be improved using filtering and combinations. Let's see the plot of the coordinate."
   ]
  },
  {
   "cell_type": "code",
   "execution_count": 17,
   "metadata": {},
   "outputs": [
    {
     "data": {
      "text/plain": [
       "x    2.106811e+06\n",
       "y   -3.355171e+06\n",
       "z   -4.981786e+06\n",
       "dtype: float64"
      ]
     },
     "execution_count": 17,
     "metadata": {},
     "output_type": "execute_result"
    }
   ],
   "source": [
    "# Let's get the real coordinates of the station\n",
    "from navigator.utility import IGSNetwork\n",
    "\n",
    "network = IGSNetwork()\n",
    "\n",
    "real_coords = network.get_xyz(station=station)\n",
    "real_coords = pd.Series(real_coords, index=['x', 'y', 'z'])\n",
    "real_coords"
   ]
  },
  {
   "cell_type": "markdown",
   "metadata": {},
   "source": [
    "Let's scatter plot the coordinate hiligitng the real coordinate."
   ]
  },
  {
   "cell_type": "code",
   "execution_count": 18,
   "metadata": {},
   "outputs": [
    {
     "data": {
      "image/png": "[encoded data removed]",
      "text/plain": [
       "<Figure size 640x480 with 1 Axes>"
      ]
     },
     "metadata": {},
     "output_type": "display_data"
    }
   ],
   "source": [
    "import matplotlib.pyplot as plt\n",
    "\n",
    "# Scatter plot of predicted coordinates\n",
    "fig = plt.figure()\n",
    "ax = fig.add_subplot(111, projection='3d')\n",
    "ax.scatter(df['x'], df['y'], df['z'], c=df['diff'], cmap='viridis', alpha=0.5)\n",
    "\n",
    "# Add real coordinates to the plot as a red dot\n",
    "ax.scatter(real_coords['x'], real_coords['y'], real_coords['z'], c='red', s=100)\n",
    "\n",
    "plt.show()"
   ]
  }
 ],
 "metadata": {
  "kernelspec": {
   "display_name": "navigator-96XIUzCO-py3.10",
   "language": "python",
   "name": "python3"
  },
  "language_info": {
   "codemirror_mode": {
    "name": "ipython",
    "version": 3
   },
   "file_extension": ".py",
   "mimetype": "text/x-python",
   "name": "python",
   "nbconvert_exporter": "python",
   "pygments_lexer": "ipython3",
   "version": "3.10.12"
  },
  "orig_nbformat": 4
 },
 "nbformat": 4,
 "nbformat_minor": 2
}
