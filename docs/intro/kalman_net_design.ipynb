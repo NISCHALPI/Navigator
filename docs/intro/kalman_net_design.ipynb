{
 "cells": [
  {
   "cell_type": "markdown",
   "metadata": {},
   "source": [
    "# **Design for Single Differenced Kalman Network for GNSS Triangulation**"
   ]
  },
  {
   "cell_type": "markdown",
   "metadata": {},
   "source": [
    "### **Introduction**"
   ]
  },
  {
   "cell_type": "markdown",
   "metadata": {},
   "source": [
    "Here, we design a Recurrent Neural Network (RNN) aided kalman filter for GPS/GNSS triangulation. The main motivation behind this is that this is able to learn the non-linear filter for a given reciever and satellite constellation and the reciever dependent noise characteristics. \n",
    "\n",
    "The main paper that we are following:\n",
    "\n",
    "- [KalmanNet: Neural Network Aided Kalman Filtering for Partially Known Dynamics](https://ieeexplore.ieee.org/abstract/document/9733186?casa_token=E7Dlt41RuYMAAAAA:K_hc0gJoRDXLG3BNt6tS3QW1Tzf54jufij9adE7HcjGst0VeyXWhWe5Mc1MiyXH7tY_gcH0GNg)\n",
    "\n",
    "\n",
    "This architecture has shown performance improvements over the traditional Kalman Filter (KF), Extended Kalman Filter (EKF), and Unscented Kalman Filter (UKF) in the case of non-linear dynamics and unknown noise characteristics as well as unknown dynamics. The main idea is to use a RNN to learn the dynamics and the noise characteristics of the system. Rather than tracking second order statistics of the system, we let the RNN learn the second order statistics of the system.  "
   ]
  },
  {
   "cell_type": "markdown",
   "metadata": {},
   "source": [
    "## **Problem Formulation**"
   ]
  },
  {
   "cell_type": "markdown",
   "metadata": {},
   "source": [
    "The GPS/GNSS problem is a non-linear problem. The measurement model in the non-linear observation equations. The dynamics, for example, the position of the moving object, is also generally non-linear. Hence, the traditional KF is not applicable. The EKF and UKF are applicable, but they require the knowledge of the noise characteristics of the system. This is not always available or easy to obtain. However, the RNN can learn the noise characteristics of the given system using the labeled data.\n",
    "\n",
    "The state space model for the GPS/GNSS problem is genrally given as:\n",
    "$$\n",
    "x = \\begin{bmatrix} x \\\\ y \\\\ z \\\\ \\dot{x} \\\\ \\dot{y} \\\\ \\dot{z} \\\\ cdt \\\\ c\\dot{dt}\\end{bmatrix}\n",
    "$$\n",
    "where $x,y,z$ are the position of the reciever in the ECEF frame, $\\dot{x},\\dot{y},\\dot{z}$ are the velocity of the reciever in the ECEF frame, $cdt$ is the clock bias of the reciever, and $c\\dot{dt}$ is the clock drift of the reciever with respect to the GPS/GNSS time.\n",
    "\n",
    "The pseudorange equation is given as:\n",
    "$$\n",
    "\\rho = \\sqrt{(x-x_s)^2 + (y-y_s)^2 + (z-z_s)^2} + cdt + \\epsilon\n",
    "$$\n",
    "where $x_s,y_s,z_s$ are the position of the satellite in the ECEF frame, and $\\epsilon$ is the noise in the measurement.\n",
    "\n",
    "These were the assumption made in the [UKF Aided Kalman Filter](unscented_kalman_filter_gps.ipynb) notebook."
   ]
  },
  {
   "cell_type": "markdown",
   "metadata": {},
   "source": [
    "## **Architecture Design Problem** "
   ]
  },
  {
   "cell_type": "markdown",
   "metadata": {},
   "source": [
    "There are few design problems that we need to solve before we can implement the KalmanNet.\n",
    "\n",
    "1. How does the training data look like?  \n",
    "    Just like any neural network, training data will contaion an input X and a labelled output Y. Since the base architecture of the Kalman Net is RNN, the input will be time series of the observables,\n",
    "    $$\n",
    "    P_i = \\begin{bmatrix} \\rho_{1,i} \\\\ \\rho_{2,i} \\\\ \\vdots \\\\ \\rho_{N_s,i} \\end{bmatrix}\n",
    "    $$\n",
    "    where $i$ is the time index, and $N_s$ is the number of satellites in view. The labelled training data Y will be the time series of position and velocity of the reciever in the ECEF frame.\n",
    "    $$\n",
    "    Y_i = \\begin{bmatrix} x_i \\\\ y_i \\\\ z_i \\\\ \\dot{x}_i \\\\ \\dot{y}_i \\\\ \\dot{z}_i \\end{bmatrix}\n",
    "    $$\n",
    "\n",
    "    **Note: Prior to the training, user can correct the data for modeled errors such as ionospheric delay, tropospheric delay, and satellite clock bias. This further improves the performance of the KalmanNet because it will be trained on more precise data.**\n",
    "\n",
    "\n",
    "2. What about the reciever clock bias and drift?  \n",
    "    The reciever clock bias and drift are not observables since they are very hard to measure with high accuracy and are generally noisy. So, they are not included in the training data. So, we will have to simultaneously eliminate them and gain some advantage doing that. This is done by using the single differenced measurement model. The single differenced measurement mode. Hence out state space model becomes:\n",
    "    $$\n",
    "    x = \\begin{bmatrix} x \\\\ y \\\\ z \\\\ \\dot{x} \\\\ \\dot{y} \\\\ \\dot{z} \\end{bmatrix}\n",
    "    $$\n",
    "    Hence, the clock bias is not calculated. This can be calculated using least squares or UKF. Eliminating the clock bias, we have more gain more precision in the location estimation and velocity estimation which are the main goals of the GPS/GNSS problem.\n"
   ]
  },
  {
   "cell_type": "markdown",
   "metadata": {},
   "source": [
    "##"
   ]
  },
  {
   "cell_type": "markdown",
   "metadata": {},
   "source": [
    "## **Single Differenced Equations**"
   ]
  },
  {
   "cell_type": "markdown",
   "metadata": {},
   "source": [
    "To eliminate the reciever clock bias, we use the single differenced measurement model. This measurement model is given as:\n",
    "$$\n",
    "\\rho_{ij} = \\rho_{i} - \\rho_{j} + \\epsilon_{ij}\n",
    "$$\n",
    "where $\\rho_{ij}$ is the single differenced pseudorange between the $i^{th}$ and $j^{th}$ reference satellite, $\\rho_{i}$ is the pseudorange of the $i^{th}$ reference satellite, $\\rho_{j}$ is the pseudorange of the $j^{th}$ reference satellite, and $\\epsilon_{ij}$ is the remaining noise in the single differenced pseudorange.\n",
    "\n",
    "Since the reciever clock bias is same for all the satellites at a given time, the pseudorange equation for the $i^{th}$ satellite is given as:\n",
    "$$\n",
    "\\rho_{i} = \\sqrt{(x-x_i)^2 + (y-y_i)^2 + (z-z_i)^2} + cdt + \\epsilon_i\n",
    "$$\n",
    "where $x_i,y_i,z_i$ are the position of the $i^{th}$ satellite in the ECEF frame, and $\\epsilon_i$ is the noise in the measurement. Now a reference satellite is chosen, generally having the highest elevation angle as the reference satellite. The single differenced pseudorange equation for the $i^{th}$ and $j^{th}$ satellite is given as:\n",
    "$$\n",
    "\\rho_{ij} = \\sqrt{(x-x_i)^2 + (y-y_i)^2 + (z-z_i)^2} - \\sqrt{(x-x_j)^2 + (y-y_j)^2 + (z-z_j)^2} + cdt - cdt + \\epsilon_{i} - \\epsilon_{j}\n",
    "$$\n",
    "The clock bias is eliminated. The single differenced pseudorange equation for the $i^{th}$ and $j^{th}$ satellite is given as:\n",
    "$$\n",
    "\\rho_{ij} = \\sqrt{(x-x_i)^2 + (y-y_i)^2 + (z-z_i)^2} - \\sqrt{(x-x_j)^2 + (y-y_j)^2 + (z-z_j)^2} + \\epsilon_{ij}\n",
    "$$\n",
    "where $\\epsilon_{ij} = \\epsilon_{i} - \\epsilon_{j}$ is the remaining noise in the single differenced pseudorange.\n",
    "\n",
    "We will feed the KalmanNet with the single differenced pseudorange measurements and the KalmanNet will output the position and velocity of the reciever in the ECEF frame. This requires that at least 4 satellites are in view of the reciever.\n",
    "\n"
   ]
  },
  {
   "cell_type": "markdown",
   "metadata": {},
   "source": [
    "## **State Transistion and Measurement Model**"
   ]
  },
  {
   "cell_type": "markdown",
   "metadata": {},
   "source": [
    "### **State Transition Model**"
   ]
  },
  {
   "cell_type": "markdown",
   "metadata": {},
   "source": [
    "The constant velocity model is used for the state transistion model as in the [UKF Aided Kalman Filter](unscented_kalman_filter_gps.ipynb) notebook. The state transistion model matrix is given as:\n",
    "$$\n",
    "A = \\begin{bmatrix} 1 & \\Delta t \\\\ 0 & 1 \\end{bmatrix}\n",
    "$$\n",
    "Now the state transition function can be calculated as:\n",
    "$$\n",
    "F = \\begin{bmatrix} A & 0 & 0 & 0 \\\\ 0 & A & 0 & 0 \\\\ 0 & 0 & A & 0 \\end{bmatrix}\n",
    "$$\n",
    "where $A$  is constant velocity model matrix, and $\\Delta$ is the time step for the measurement update which depends on the sampling rate of the GPS/GNSS reciever. \n",
    "\n",
    "For the Kalman Net, the process noise is modelled by the RNN. Hence, the model mismatch can be mitigated, and noise characteristics can be directly learned from the data."
   ]
  },
  {
   "cell_type": "code",
   "execution_count": 1,
   "metadata": {},
   "outputs": [],
   "source": [
    "# Implementation of the State Transition Matrix for Kalman Net\n",
    "import numpy as np\n",
    "import numba as nb\n",
    "\n",
    "nb.njit(\n",
    "    nb.float64[:,:](nb.float64[:], nb.float64),\n",
    "    fastmath=True,\n",
    "    cache=True,\n",
    "    parallel=True\n",
    ")\n",
    "def fx(x : np.ndarray, dt : float) -> np.ndarray:\n",
    "    \"\"\"State transition function for the Single Differential Kalman Net.\n",
    "    Args:\n",
    "        x (ndarray): Current state vector. Shape (6) 1D array.\n",
    "        dt (float): Time step. Units: seconds.\n",
    "    \n",
    "    Returns:\n",
    "        ndarray: Time translated state vector.\n",
    "    \"\"\"\n",
    "    # Unit evolution matrix\n",
    "    A = np.eye(2, dtype=np.float64)\n",
    "    A[0,1] = dt\n",
    "\n",
    "    # State transition function 6 * 4 constant velocity model\n",
    "    F = np.kron(np.eye(3, dtype=np.float64), A)\n",
    "\n",
    "    return F @ x\n"
   ]
  },
  {
   "cell_type": "markdown",
   "metadata": {},
   "source": [
    "### **Measurement Model**"
   ]
  },
  {
   "cell_type": "markdown",
   "metadata": {},
   "source": [
    "The measurement function as discussed above is the SD-Measurement model. Let $j$ denote the reference satellite, and $s$ denote the current state, $ik$ denote the observed $k$ satellites . The measurement function $h(x_s, y_s, z_s,)$ is given as:\n",
    "$$\n",
    "h(x_s, y_s, z_s, \\vec{X_{ik}}, \\vec{X_{rf}}) = \\sqrt{(x_s-x_{ik})^2 + (y_s-y_{ik})^2 + (z_s-z_{ik})^2} - \\sqrt{(x_s-x_{j})^2 + (y_s-y_{j})^2 + (z_s-z_{j})^2}\n",
    "$$\n",
    "where $x_s,y_s,z_s$ are current state of the reciever in the ECEF frame, $\\vec{X_{ik}}$ is the vector of the position of the $k$ satellites in the ECEF frame, and $\\vec{X_{rf}}$ is the vector of the position of the reference satellite in the ECEF frame.\n",
    "\n",
    "Hence, the follwing argumente are required for the measurement function:\n",
    "- The current state of the reciever in the ECEF frame (As is the convention in the Kalman Filter)\n",
    "- The position of the reference satellite in the ECEF frame(To eliminate the clock bias)\n",
    "- The position of the satellites in the ECEF frame (To calculate the differenced pseudorange which are the observables)\n"
   ]
  },
  {
   "cell_type": "code",
   "execution_count": 2,
   "metadata": {},
   "outputs": [],
   "source": [
    "# Implementation of the measurement function for the Kalman Net\n",
    "nb.njit(\n",
    "    nb.float64[:](nb.float64[:], nb.float64[:,:], nb.float64[:]),\n",
    "    fastmath=True,\n",
    "    cache=True,\n",
    "    parallel=True\n",
    ")\n",
    "def hx(x : np.ndarray, sv_matrix : np.ndarray , reference_sv : np.ndarray) -> np.ndarray:\n",
    "    \"\"\"Measurement function for the Single Differential Kalman Net.\n",
    "    Args:\n",
    "        x (ndarray): Current state vector. Shape (6,) 1D array.\n",
    "        sv_matrix (ndarray): Satellite state vector matrix. Shape (n, 3). n = number of satellites.\n",
    "        reference_sv (ndarray): Reference satellite state vector. Shape (3) 1D array.\n",
    "    \n",
    "    Returns:\n",
    "        ndarray: Differenced pseduorange measurement vector. Shape (n,) 1D array.\n",
    "    \"\"\"\n",
    "    # Assert that the input is of the correct shape\n",
    "    assert x.shape == (6,), f\"Shape of state is {x.shape}\"\n",
    "    assert sv_matrix.shape[1] == 3 , f\"Shape of sv_matrix is {sv_matrix.shape}\"\n",
    "    assert reference_sv.shape == (3,) , f\"Shape of reference_sv is {reference_sv.shape}\"\n",
    "\n",
    "    # Single differential pseudorange measurement function\n",
    "    return np.linalg.norm(x[:3] - sv_matrix, axis=1) - np.linalg.norm(x[:3] - reference_sv)\n",
    "    \n"
   ]
  },
  {
   "cell_type": "markdown",
   "metadata": {},
   "source": [
    "## **KalmanNet Architecture**"
   ]
  },
  {
   "cell_type": "markdown",
   "metadata": {},
   "source": [
    "Following the paper, the KalmanNet architecture is similar to the EKF architecture. First an abstract class is defined for the KalmanNet. This class contatins abstract methods that need to be implemented by the child class. These methods will be choosen based on the specific architecture of the KalmanNet."
   ]
  }
 ],
 "metadata": {
  "kernelspec": {
   "display_name": "navigator-tJ-eCaO9-py3.10",
   "language": "python",
   "name": "python3"
  },
  "language_info": {
   "codemirror_mode": {
    "name": "ipython",
    "version": 3
   },
   "file_extension": ".py",
   "mimetype": "text/x-python",
   "name": "python",
   "nbconvert_exporter": "python",
   "pygments_lexer": "ipython3",
   "version": "3.11.5"
  }
 },
 "nbformat": 4,
 "nbformat_minor": 2
}
