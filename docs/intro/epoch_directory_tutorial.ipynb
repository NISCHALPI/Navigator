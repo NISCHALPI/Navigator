{
 "cells": [
  {
   "cell_type": "code",
   "execution_count": 1,
   "metadata": {},
   "outputs": [],
   "source": [
    "%load_ext autoreload\n",
    "%autoreload 2"
   ]
  },
  {
   "cell_type": "markdown",
   "metadata": {},
   "source": [
    "## Working with epoch directory\n",
    "The epoch directory is the processed rinex data directory. It contains observational and navigation framents for each timestamp. The epoch directory is created by the `navigator.utility.v3daily.scripts` command line tools. After processing, here is how the user can work with the epoch directory.\n"
   ]
  },
  {
   "cell_type": "code",
   "execution_count": 15,
   "metadata": {},
   "outputs": [],
   "source": [
    "# Imports \n",
    "from navigator.utility.v3daily.data import  EpochDirectory"
   ]
  },
  {
   "cell_type": "code",
   "execution_count": 16,
   "metadata": {},
   "outputs": [],
   "source": [
    "# Create a path to the directory containing the processed rinex files\n",
    "from pathlib import Path\n",
    "\n",
    "dir_path = Path('../../Rinex2020Epoch/')"
   ]
  },
  {
   "cell_type": "code",
   "execution_count": 18,
   "metadata": {},
   "outputs": [],
   "source": [
    "# Create an instance of the EpochDirectory class\n",
    "ed = EpochDirectory(directory_path=dir_path, logging=True)"
   ]
  },
  {
   "cell_type": "markdown",
   "metadata": {},
   "source": [
    "To check how many observational fragments are there in the epoch directory, use `len()` function on the epoch directory object.\n"
   ]
  },
  {
   "cell_type": "code",
   "execution_count": 19,
   "metadata": {},
   "outputs": [
    {
     "name": "stdout",
     "output_type": "stream",
     "text": [
      "Number of observatinal epoch timestamp in directory: 1685429\n"
     ]
    }
   ],
   "source": [
    "# Check how many data files are in the directory\n",
    "print(f'Number of observatinal epoch timestamp in directory: {len(ed)}')"
   ]
  },
  {
   "cell_type": "markdown",
   "metadata": {},
   "source": [
    "To get the epoch object, use the slicing python notation. For example, to get the first epoch object, use `epoch_dir[0]`. Or iterate over the epoch directory object to get all the epoch objects."
   ]
  },
  {
   "cell_type": "code",
   "execution_count": 21,
   "metadata": {},
   "outputs": [],
   "source": [
    "first_epoch = ed[0]"
   ]
  },
  {
   "cell_type": "code",
   "execution_count": 22,
   "metadata": {},
   "outputs": [
    {
     "data": {
      "text/plain": [
       "navigator.utility.epoch.epoch.Epoch"
      ]
     },
     "execution_count": 22,
     "metadata": {},
     "output_type": "execute_result"
    }
   ],
   "source": [
    "type(first_epoch)"
   ]
  },
  {
   "cell_type": "code",
   "execution_count": 23,
   "metadata": {},
   "outputs": [
    {
     "data": {
      "text/html": [
       "<div>\n",
       "<style scoped>\n",
       "    .dataframe tbody tr th:only-of-type {\n",
       "        vertical-align: middle;\n",
       "    }\n",
       "\n",
       "    .dataframe tbody tr th {\n",
       "        vertical-align: top;\n",
       "    }\n",
       "\n",
       "    .dataframe thead th {\n",
       "        text-align: right;\n",
       "    }\n",
       "</style>\n",
       "<table border=\"1\" class=\"dataframe\">\n",
       "  <thead>\n",
       "    <tr style=\"text-align: right;\">\n",
       "      <th></th>\n",
       "      <th>C1C</th>\n",
       "      <th>C2W</th>\n",
       "      <th>C2X</th>\n",
       "      <th>C5X</th>\n",
       "      <th>D1C</th>\n",
       "      <th>D2W</th>\n",
       "      <th>D2X</th>\n",
       "      <th>D5X</th>\n",
       "      <th>L1C</th>\n",
       "      <th>L2W</th>\n",
       "      <th>L2X</th>\n",
       "      <th>L5X</th>\n",
       "      <th>S1C</th>\n",
       "      <th>S2W</th>\n",
       "      <th>S2X</th>\n",
       "      <th>S5X</th>\n",
       "    </tr>\n",
       "    <tr>\n",
       "      <th>sv</th>\n",
       "      <th></th>\n",
       "      <th></th>\n",
       "      <th></th>\n",
       "      <th></th>\n",
       "      <th></th>\n",
       "      <th></th>\n",
       "      <th></th>\n",
       "      <th></th>\n",
       "      <th></th>\n",
       "      <th></th>\n",
       "      <th></th>\n",
       "      <th></th>\n",
       "      <th></th>\n",
       "      <th></th>\n",
       "      <th></th>\n",
       "      <th></th>\n",
       "    </tr>\n",
       "  </thead>\n",
       "  <tbody>\n",
       "    <tr>\n",
       "      <th>G01</th>\n",
       "      <td>2.146885e+07</td>\n",
       "      <td>2.146886e+07</td>\n",
       "      <td>2.146886e+07</td>\n",
       "      <td>2.146886e+07</td>\n",
       "      <td>-1869.891</td>\n",
       "      <td>-1454.641</td>\n",
       "      <td>-1454.641</td>\n",
       "      <td>-1394.031</td>\n",
       "      <td>1.128196e+08</td>\n",
       "      <td>8.791142e+07</td>\n",
       "      <td>8.791141e+07</td>\n",
       "      <td>8.424845e+07</td>\n",
       "      <td>47.6</td>\n",
       "      <td>50.5</td>\n",
       "      <td>48.1</td>\n",
       "      <td>52.4</td>\n",
       "    </tr>\n",
       "    <tr>\n",
       "      <th>G03</th>\n",
       "      <td>2.112080e+07</td>\n",
       "      <td>2.112081e+07</td>\n",
       "      <td>2.112081e+07</td>\n",
       "      <td>2.112081e+07</td>\n",
       "      <td>1473.648</td>\n",
       "      <td>1153.908</td>\n",
       "      <td>1153.908</td>\n",
       "      <td>1105.829</td>\n",
       "      <td>1.109905e+08</td>\n",
       "      <td>8.648621e+07</td>\n",
       "      <td>8.648619e+07</td>\n",
       "      <td>8.288262e+07</td>\n",
       "      <td>48.9</td>\n",
       "      <td>51.9</td>\n",
       "      <td>49.4</td>\n",
       "      <td>53.2</td>\n",
       "    </tr>\n",
       "    <tr>\n",
       "      <th>G04</th>\n",
       "      <td>2.480920e+07</td>\n",
       "      <td>2.480921e+07</td>\n",
       "      <td>2.480921e+07</td>\n",
       "      <td>2.480922e+07</td>\n",
       "      <td>534.270</td>\n",
       "      <td>412.390</td>\n",
       "      <td>412.390</td>\n",
       "      <td>395.207</td>\n",
       "      <td>1.303733e+08</td>\n",
       "      <td>1.015896e+08</td>\n",
       "      <td>1.015896e+08</td>\n",
       "      <td>9.735669e+07</td>\n",
       "      <td>32.5</td>\n",
       "      <td>16.3</td>\n",
       "      <td>37.9</td>\n",
       "      <td>40.3</td>\n",
       "    </tr>\n",
       "    <tr>\n",
       "      <th>G07</th>\n",
       "      <td>2.226689e+07</td>\n",
       "      <td>2.226689e+07</td>\n",
       "      <td>2.226689e+07</td>\n",
       "      <td>NaN</td>\n",
       "      <td>-1451.461</td>\n",
       "      <td>-1127.191</td>\n",
       "      <td>-1127.192</td>\n",
       "      <td>NaN</td>\n",
       "      <td>1.170132e+08</td>\n",
       "      <td>9.117920e+07</td>\n",
       "      <td>9.117921e+07</td>\n",
       "      <td>NaN</td>\n",
       "      <td>46.4</td>\n",
       "      <td>46.2</td>\n",
       "      <td>44.4</td>\n",
       "      <td>NaN</td>\n",
       "    </tr>\n",
       "    <tr>\n",
       "      <th>G08</th>\n",
       "      <td>2.300166e+07</td>\n",
       "      <td>2.300166e+07</td>\n",
       "      <td>2.300166e+07</td>\n",
       "      <td>2.300166e+07</td>\n",
       "      <td>-461.246</td>\n",
       "      <td>-359.240</td>\n",
       "      <td>-359.240</td>\n",
       "      <td>-344.272</td>\n",
       "      <td>1.208746e+08</td>\n",
       "      <td>9.418800e+07</td>\n",
       "      <td>9.418801e+07</td>\n",
       "      <td>9.026351e+07</td>\n",
       "      <td>41.8</td>\n",
       "      <td>38.6</td>\n",
       "      <td>43.1</td>\n",
       "      <td>46.0</td>\n",
       "    </tr>\n",
       "    <tr>\n",
       "      <th>G09</th>\n",
       "      <td>2.527695e+07</td>\n",
       "      <td>2.527695e+07</td>\n",
       "      <td>2.527695e+07</td>\n",
       "      <td>2.527695e+07</td>\n",
       "      <td>410.395</td>\n",
       "      <td>315.738</td>\n",
       "      <td>315.739</td>\n",
       "      <td>302.584</td>\n",
       "      <td>1.328313e+08</td>\n",
       "      <td>1.035049e+08</td>\n",
       "      <td>1.035049e+08</td>\n",
       "      <td>9.919220e+07</td>\n",
       "      <td>34.5</td>\n",
       "      <td>22.2</td>\n",
       "      <td>32.7</td>\n",
       "      <td>37.0</td>\n",
       "    </tr>\n",
       "    <tr>\n",
       "      <th>G27</th>\n",
       "      <td>2.492812e+07</td>\n",
       "      <td>2.492813e+07</td>\n",
       "      <td>2.492813e+07</td>\n",
       "      <td>2.492813e+07</td>\n",
       "      <td>-918.484</td>\n",
       "      <td>-714.975</td>\n",
       "      <td>-715.023</td>\n",
       "      <td>-685.231</td>\n",
       "      <td>1.309982e+08</td>\n",
       "      <td>1.020766e+08</td>\n",
       "      <td>1.020766e+08</td>\n",
       "      <td>9.782337e+07</td>\n",
       "      <td>33.5</td>\n",
       "      <td>28.4</td>\n",
       "      <td>36.9</td>\n",
       "      <td>39.0</td>\n",
       "    </tr>\n",
       "    <tr>\n",
       "      <th>G30</th>\n",
       "      <td>2.287000e+07</td>\n",
       "      <td>2.287001e+07</td>\n",
       "      <td>2.287001e+07</td>\n",
       "      <td>2.287001e+07</td>\n",
       "      <td>355.004</td>\n",
       "      <td>282.263</td>\n",
       "      <td>282.263</td>\n",
       "      <td>270.503</td>\n",
       "      <td>1.201826e+08</td>\n",
       "      <td>9.364885e+07</td>\n",
       "      <td>9.364885e+07</td>\n",
       "      <td>8.974682e+07</td>\n",
       "      <td>43.9</td>\n",
       "      <td>41.3</td>\n",
       "      <td>44.0</td>\n",
       "      <td>47.8</td>\n",
       "    </tr>\n",
       "  </tbody>\n",
       "</table>\n",
       "</div>"
      ],
      "text/plain": [
       "              C1C           C2W           C2X  ...   S2W   S2X   S5X\n",
       "sv                                             ...                  \n",
       "G01  2.146885e+07  2.146886e+07  2.146886e+07  ...  50.5  48.1  52.4\n",
       "G03  2.112080e+07  2.112081e+07  2.112081e+07  ...  51.9  49.4  53.2\n",
       "G04  2.480920e+07  2.480921e+07  2.480921e+07  ...  16.3  37.9  40.3\n",
       "G07  2.226689e+07  2.226689e+07  2.226689e+07  ...  46.2  44.4   NaN\n",
       "G08  2.300166e+07  2.300166e+07  2.300166e+07  ...  38.6  43.1  46.0\n",
       "G09  2.527695e+07  2.527695e+07  2.527695e+07  ...  22.2  32.7  37.0\n",
       "G27  2.492812e+07  2.492813e+07  2.492813e+07  ...  28.4  36.9  39.0\n",
       "G30  2.287000e+07  2.287001e+07  2.287001e+07  ...  41.3  44.0  47.8\n",
       "\n",
       "[8 rows x 16 columns]"
      ]
     },
     "execution_count": 23,
     "metadata": {},
     "output_type": "execute_result"
    }
   ],
   "source": [
    "first_epoch.obs_data"
   ]
  },
  {
   "cell_type": "code",
   "execution_count": 24,
   "metadata": {},
   "outputs": [
    {
     "data": {
      "text/html": [
       "<div>\n",
       "<style scoped>\n",
       "    .dataframe tbody tr th:only-of-type {\n",
       "        vertical-align: middle;\n",
       "    }\n",
       "\n",
       "    .dataframe tbody tr th {\n",
       "        vertical-align: top;\n",
       "    }\n",
       "\n",
       "    .dataframe thead th {\n",
       "        text-align: right;\n",
       "    }\n",
       "</style>\n",
       "<table border=\"1\" class=\"dataframe\">\n",
       "  <thead>\n",
       "    <tr style=\"text-align: right;\">\n",
       "      <th></th>\n",
       "      <th></th>\n",
       "      <th>SVclockBias</th>\n",
       "      <th>SVclockDrift</th>\n",
       "      <th>SVclockDriftRate</th>\n",
       "      <th>IODE</th>\n",
       "      <th>Crs</th>\n",
       "      <th>DeltaN</th>\n",
       "      <th>M0</th>\n",
       "      <th>Cuc</th>\n",
       "      <th>Eccentricity</th>\n",
       "      <th>Cus</th>\n",
       "      <th>sqrtA</th>\n",
       "      <th>Toe</th>\n",
       "      <th>Cic</th>\n",
       "      <th>Omega0</th>\n",
       "      <th>Cis</th>\n",
       "      <th>Io</th>\n",
       "      <th>Crc</th>\n",
       "      <th>omega</th>\n",
       "      <th>OmegaDot</th>\n",
       "      <th>IDOT</th>\n",
       "      <th>CodesL2</th>\n",
       "      <th>GPSWeek</th>\n",
       "      <th>L2Pflag</th>\n",
       "      <th>SVacc</th>\n",
       "      <th>health</th>\n",
       "      <th>TGD</th>\n",
       "      <th>IODC</th>\n",
       "      <th>TransTime</th>\n",
       "      <th>FitIntvl</th>\n",
       "      <th>spare0</th>\n",
       "      <th>spare1</th>\n",
       "    </tr>\n",
       "    <tr>\n",
       "      <th>time</th>\n",
       "      <th>sv</th>\n",
       "      <th></th>\n",
       "      <th></th>\n",
       "      <th></th>\n",
       "      <th></th>\n",
       "      <th></th>\n",
       "      <th></th>\n",
       "      <th></th>\n",
       "      <th></th>\n",
       "      <th></th>\n",
       "      <th></th>\n",
       "      <th></th>\n",
       "      <th></th>\n",
       "      <th></th>\n",
       "      <th></th>\n",
       "      <th></th>\n",
       "      <th></th>\n",
       "      <th></th>\n",
       "      <th></th>\n",
       "      <th></th>\n",
       "      <th></th>\n",
       "      <th></th>\n",
       "      <th></th>\n",
       "      <th></th>\n",
       "      <th></th>\n",
       "      <th></th>\n",
       "      <th></th>\n",
       "      <th></th>\n",
       "      <th></th>\n",
       "      <th></th>\n",
       "      <th></th>\n",
       "      <th></th>\n",
       "    </tr>\n",
       "  </thead>\n",
       "  <tbody>\n",
       "    <tr>\n",
       "      <th rowspan=\"8\" valign=\"top\">2020-06-20 20:00:00</th>\n",
       "      <th>G01</th>\n",
       "      <td>0.000013</td>\n",
       "      <td>7.958079e-12</td>\n",
       "      <td>0.0</td>\n",
       "      <td>81.0</td>\n",
       "      <td>-133.40625</td>\n",
       "      <td>3.874090e-09</td>\n",
       "      <td>2.577664</td>\n",
       "      <td>-7.051975e-06</td>\n",
       "      <td>0.009994</td>\n",
       "      <td>7.880852e-06</td>\n",
       "      <td>5153.717196</td>\n",
       "      <td>590400.0</td>\n",
       "      <td>-5.774200e-08</td>\n",
       "      <td>2.696255</td>\n",
       "      <td>-1.285225e-07</td>\n",
       "      <td>0.980729</td>\n",
       "      <td>238.03125</td>\n",
       "      <td>0.791358</td>\n",
       "      <td>-7.557458e-09</td>\n",
       "      <td>-1.492919e-10</td>\n",
       "      <td>1.0</td>\n",
       "      <td>2110.0</td>\n",
       "      <td>0.0</td>\n",
       "      <td>2.8</td>\n",
       "      <td>0.0</td>\n",
       "      <td>5.122274e-09</td>\n",
       "      <td>81.0</td>\n",
       "      <td>583218.0</td>\n",
       "      <td>4.0</td>\n",
       "      <td>0.0</td>\n",
       "      <td>0.0</td>\n",
       "    </tr>\n",
       "    <tr>\n",
       "      <th>G03</th>\n",
       "      <td>-0.000215</td>\n",
       "      <td>-1.205080e-11</td>\n",
       "      <td>0.0</td>\n",
       "      <td>59.0</td>\n",
       "      <td>-7.18750</td>\n",
       "      <td>4.322323e-09</td>\n",
       "      <td>1.563377</td>\n",
       "      <td>-4.041940e-07</td>\n",
       "      <td>0.002938</td>\n",
       "      <td>1.029857e-05</td>\n",
       "      <td>5153.536135</td>\n",
       "      <td>590400.0</td>\n",
       "      <td>-1.024455e-07</td>\n",
       "      <td>-2.547142</td>\n",
       "      <td>3.911555e-08</td>\n",
       "      <td>0.966111</td>\n",
       "      <td>184.37500</td>\n",
       "      <td>0.726836</td>\n",
       "      <td>-7.769252e-09</td>\n",
       "      <td>4.639479e-10</td>\n",
       "      <td>1.0</td>\n",
       "      <td>2110.0</td>\n",
       "      <td>0.0</td>\n",
       "      <td>2.0</td>\n",
       "      <td>0.0</td>\n",
       "      <td>1.862645e-09</td>\n",
       "      <td>59.0</td>\n",
       "      <td>583968.0</td>\n",
       "      <td>4.0</td>\n",
       "      <td>0.0</td>\n",
       "      <td>0.0</td>\n",
       "    </tr>\n",
       "    <tr>\n",
       "      <th>G04</th>\n",
       "      <td>-0.000105</td>\n",
       "      <td>-4.774847e-12</td>\n",
       "      <td>0.0</td>\n",
       "      <td>54.0</td>\n",
       "      <td>-2.09375</td>\n",
       "      <td>4.893061e-09</td>\n",
       "      <td>-2.576435</td>\n",
       "      <td>-1.452863e-07</td>\n",
       "      <td>0.000778</td>\n",
       "      <td>4.939735e-06</td>\n",
       "      <td>5153.658010</td>\n",
       "      <td>590400.0</td>\n",
       "      <td>-3.725290e-09</td>\n",
       "      <td>-1.467958</td>\n",
       "      <td>0.000000e+00</td>\n",
       "      <td>0.959475</td>\n",
       "      <td>283.31250</td>\n",
       "      <td>-2.605008</td>\n",
       "      <td>-8.113909e-09</td>\n",
       "      <td>-1.332198e-10</td>\n",
       "      <td>1.0</td>\n",
       "      <td>2110.0</td>\n",
       "      <td>0.0</td>\n",
       "      <td>2.0</td>\n",
       "      <td>0.0</td>\n",
       "      <td>-4.190952e-09</td>\n",
       "      <td>310.0</td>\n",
       "      <td>583218.0</td>\n",
       "      <td>4.0</td>\n",
       "      <td>0.0</td>\n",
       "      <td>0.0</td>\n",
       "    </tr>\n",
       "    <tr>\n",
       "      <th>G07</th>\n",
       "      <td>-0.000309</td>\n",
       "      <td>-8.753887e-12</td>\n",
       "      <td>0.0</td>\n",
       "      <td>46.0</td>\n",
       "      <td>13.68750</td>\n",
       "      <td>4.420184e-09</td>\n",
       "      <td>1.827229</td>\n",
       "      <td>6.668270e-07</td>\n",
       "      <td>0.014006</td>\n",
       "      <td>1.046993e-05</td>\n",
       "      <td>5153.663971</td>\n",
       "      <td>590400.0</td>\n",
       "      <td>-2.831221e-07</td>\n",
       "      <td>-0.441909</td>\n",
       "      <td>-5.401671e-08</td>\n",
       "      <td>0.953202</td>\n",
       "      <td>176.93750</td>\n",
       "      <td>-2.388562</td>\n",
       "      <td>-7.855684e-09</td>\n",
       "      <td>-5.957391e-10</td>\n",
       "      <td>1.0</td>\n",
       "      <td>2110.0</td>\n",
       "      <td>0.0</td>\n",
       "      <td>2.0</td>\n",
       "      <td>0.0</td>\n",
       "      <td>-1.117587e-08</td>\n",
       "      <td>46.0</td>\n",
       "      <td>584652.0</td>\n",
       "      <td>4.0</td>\n",
       "      <td>0.0</td>\n",
       "      <td>0.0</td>\n",
       "    </tr>\n",
       "    <tr>\n",
       "      <th>G08</th>\n",
       "      <td>-0.000038</td>\n",
       "      <td>-1.364242e-12</td>\n",
       "      <td>0.0</td>\n",
       "      <td>69.0</td>\n",
       "      <td>-0.90625</td>\n",
       "      <td>4.623764e-09</td>\n",
       "      <td>-1.434214</td>\n",
       "      <td>-2.980232e-07</td>\n",
       "      <td>0.005340</td>\n",
       "      <td>1.266599e-07</td>\n",
       "      <td>5153.683359</td>\n",
       "      <td>590400.0</td>\n",
       "      <td>5.029142e-08</td>\n",
       "      <td>1.625725</td>\n",
       "      <td>-8.009374e-08</td>\n",
       "      <td>0.969295</td>\n",
       "      <td>380.21875</td>\n",
       "      <td>-0.064374</td>\n",
       "      <td>-8.428208e-09</td>\n",
       "      <td>1.546493e-10</td>\n",
       "      <td>1.0</td>\n",
       "      <td>2110.0</td>\n",
       "      <td>0.0</td>\n",
       "      <td>2.0</td>\n",
       "      <td>0.0</td>\n",
       "      <td>5.122274e-09</td>\n",
       "      <td>69.0</td>\n",
       "      <td>583218.0</td>\n",
       "      <td>4.0</td>\n",
       "      <td>0.0</td>\n",
       "      <td>0.0</td>\n",
       "    </tr>\n",
       "    <tr>\n",
       "      <th>G09</th>\n",
       "      <td>-0.000240</td>\n",
       "      <td>-6.821210e-12</td>\n",
       "      <td>0.0</td>\n",
       "      <td>60.0</td>\n",
       "      <td>-1.37500</td>\n",
       "      <td>5.136285e-09</td>\n",
       "      <td>-1.213595</td>\n",
       "      <td>-1.285225e-07</td>\n",
       "      <td>0.001509</td>\n",
       "      <td>4.719943e-06</td>\n",
       "      <td>5153.699318</td>\n",
       "      <td>590400.0</td>\n",
       "      <td>-4.284084e-08</td>\n",
       "      <td>-1.516086</td>\n",
       "      <td>1.117587e-08</td>\n",
       "      <td>0.952209</td>\n",
       "      <td>282.62500</td>\n",
       "      <td>1.800120</td>\n",
       "      <td>-8.267487e-09</td>\n",
       "      <td>-1.282196e-10</td>\n",
       "      <td>1.0</td>\n",
       "      <td>2110.0</td>\n",
       "      <td>0.0</td>\n",
       "      <td>2.0</td>\n",
       "      <td>0.0</td>\n",
       "      <td>1.396984e-09</td>\n",
       "      <td>60.0</td>\n",
       "      <td>583218.0</td>\n",
       "      <td>4.0</td>\n",
       "      <td>0.0</td>\n",
       "      <td>0.0</td>\n",
       "    </tr>\n",
       "    <tr>\n",
       "      <th>G27</th>\n",
       "      <td>-0.000326</td>\n",
       "      <td>-9.777068e-12</td>\n",
       "      <td>0.0</td>\n",
       "      <td>56.0</td>\n",
       "      <td>-3.34375</td>\n",
       "      <td>4.431256e-09</td>\n",
       "      <td>-1.591413</td>\n",
       "      <td>-2.644956e-07</td>\n",
       "      <td>0.008299</td>\n",
       "      <td>-2.533197e-07</td>\n",
       "      <td>5153.666193</td>\n",
       "      <td>590400.0</td>\n",
       "      <td>1.173466e-07</td>\n",
       "      <td>1.640218</td>\n",
       "      <td>-6.705523e-08</td>\n",
       "      <td>0.977726</td>\n",
       "      <td>389.40625</td>\n",
       "      <td>0.574181</td>\n",
       "      <td>-8.258558e-09</td>\n",
       "      <td>1.825076e-10</td>\n",
       "      <td>1.0</td>\n",
       "      <td>2110.0</td>\n",
       "      <td>0.0</td>\n",
       "      <td>2.0</td>\n",
       "      <td>0.0</td>\n",
       "      <td>1.862645e-09</td>\n",
       "      <td>56.0</td>\n",
       "      <td>583218.0</td>\n",
       "      <td>4.0</td>\n",
       "      <td>0.0</td>\n",
       "      <td>0.0</td>\n",
       "    </tr>\n",
       "    <tr>\n",
       "      <th>G30</th>\n",
       "      <td>-0.000246</td>\n",
       "      <td>-7.958079e-12</td>\n",
       "      <td>0.0</td>\n",
       "      <td>64.0</td>\n",
       "      <td>23.96875</td>\n",
       "      <td>4.740555e-09</td>\n",
       "      <td>1.782409</td>\n",
       "      <td>1.307577e-06</td>\n",
       "      <td>0.004713</td>\n",
       "      <td>1.027808e-05</td>\n",
       "      <td>5153.633780</td>\n",
       "      <td>590400.0</td>\n",
       "      <td>-3.911555e-08</td>\n",
       "      <td>-0.419597</td>\n",
       "      <td>1.862645e-08</td>\n",
       "      <td>0.938527</td>\n",
       "      <td>171.43750</td>\n",
       "      <td>-2.846918</td>\n",
       "      <td>-7.948188e-09</td>\n",
       "      <td>-6.057395e-10</td>\n",
       "      <td>1.0</td>\n",
       "      <td>2110.0</td>\n",
       "      <td>0.0</td>\n",
       "      <td>2.0</td>\n",
       "      <td>0.0</td>\n",
       "      <td>3.725290e-09</td>\n",
       "      <td>64.0</td>\n",
       "      <td>589932.0</td>\n",
       "      <td>4.0</td>\n",
       "      <td>0.0</td>\n",
       "      <td>0.0</td>\n",
       "    </tr>\n",
       "  </tbody>\n",
       "</table>\n",
       "</div>"
      ],
      "text/plain": [
       "                         SVclockBias  SVclockDrift  ...  spare0  spare1\n",
       "time                sv                              ...                \n",
       "2020-06-20 20:00:00 G01     0.000013  7.958079e-12  ...     0.0     0.0\n",
       "                    G03    -0.000215 -1.205080e-11  ...     0.0     0.0\n",
       "                    G04    -0.000105 -4.774847e-12  ...     0.0     0.0\n",
       "                    G07    -0.000309 -8.753887e-12  ...     0.0     0.0\n",
       "                    G08    -0.000038 -1.364242e-12  ...     0.0     0.0\n",
       "                    G09    -0.000240 -6.821210e-12  ...     0.0     0.0\n",
       "                    G27    -0.000326 -9.777068e-12  ...     0.0     0.0\n",
       "                    G30    -0.000246 -7.958079e-12  ...     0.0     0.0\n",
       "\n",
       "[8 rows x 31 columns]"
      ]
     },
     "execution_count": 24,
     "metadata": {},
     "output_type": "execute_result"
    }
   ],
   "source": [
    "first_epoch.nav_data"
   ]
  },
  {
   "cell_type": "markdown",
   "metadata": {},
   "source": [
    "To get multiple epoch objects, use the slicing python notation. For example, to get the first 10 epoch objects, use `epoch_dir[0:10]`."
   ]
  },
  {
   "cell_type": "code",
   "execution_count": 25,
   "metadata": {},
   "outputs": [],
   "source": [
    "first_10_epochs = ed[0:10]"
   ]
  },
  {
   "cell_type": "code",
   "execution_count": 26,
   "metadata": {},
   "outputs": [
    {
     "data": {
      "text/plain": [
       "[Epoch(timestamp=2020-06-20 21:20:30, sv=8),\n",
       " Epoch(timestamp=2020-06-20 10:04:00, sv=7),\n",
       " Epoch(timestamp=2020-06-20 16:14:30, sv=7),\n",
       " Epoch(timestamp=2020-06-20 01:00:30, sv=7),\n",
       " Epoch(timestamp=2020-06-20 07:35:00, sv=7),\n",
       " Epoch(timestamp=2020-06-20 20:43:30, sv=8),\n",
       " Epoch(timestamp=2020-06-20 01:46:30, sv=7),\n",
       " Epoch(timestamp=2020-06-20 04:44:30, sv=7),\n",
       " Epoch(timestamp=2020-06-20 03:58:30, sv=7),\n",
       " Epoch(timestamp=2020-06-20 14:20:00, sv=7)]"
      ]
     },
     "execution_count": 26,
     "metadata": {},
     "output_type": "execute_result"
    }
   ],
   "source": [
    "first_10_epochs"
   ]
  },
  {
   "cell_type": "markdown",
   "metadata": {},
   "source": [
    "User can also iterate through the epoch directory object to get all the epoch objects."
   ]
  },
  {
   "cell_type": "code",
   "execution_count": 28,
   "metadata": {},
   "outputs": [
    {
     "name": "stdout",
     "output_type": "stream",
     "text": [
      "Epoch 0: 2020-06-20 21:20:30\n",
      "Epoch 1: 2020-06-20 10:04:00\n",
      "Epoch 2: 2020-06-20 16:14:30\n",
      "Epoch 3: 2020-06-20 01:00:30\n",
      "Epoch 4: 2020-06-20 07:35:00\n",
      "Epoch 5: 2020-06-20 20:43:30\n",
      "Epoch 6: 2020-06-20 01:46:30\n",
      "Epoch 7: 2020-06-20 04:44:30\n",
      "Epoch 8: 2020-06-20 03:58:30\n",
      "Epoch 9: 2020-06-20 14:20:00\n",
      "Epoch 10: 2020-06-20 03:31:30\n",
      "Epoch 11: 2020-06-20 09:38:30\n"
     ]
    }
   ],
   "source": [
    "# See the first 10 epochs\n",
    "for i , epoch in enumerate(ed):\n",
    "    print(f'Epoch {i}: {epoch.timestamp}')\n",
    "    if i > 10:\n",
    "        break"
   ]
  },
  {
   "cell_type": "markdown",
   "metadata": {},
   "source": [
    "## Triangulation of the epochs\n",
    "The `navigator.satlib.Triangulator` only works with the epoch objects. Epoch objects are designed to contains all the necessary information for the triangulation process. The `navigator.satlib.Triangulator` is a class that takes in the epoch object and returns the triangulated result. The epoch object must contain the following information:\n",
    "- Observational Timestamp (timestamp)\n",
    "- Observational Data for Timestamp (obs_data attribute)\n",
    "- Navigation Data (nav_data attribute)\n",
    "\n",
    "Additional, attributes can be added in future."
   ]
  },
  {
   "cell_type": "code",
   "execution_count": 30,
   "metadata": {},
   "outputs": [],
   "source": [
    "# Lets triangulate first 10 epoch data\n",
    "from navigator.satlib import Triangulate , GPSIterativeTriangulationInterface"
   ]
  },
  {
   "cell_type": "code",
   "execution_count": 31,
   "metadata": {},
   "outputs": [],
   "source": [
    "# Create an instance of the Triangulate with GPS interface since this is GPS data\n",
    "triangulator = Triangulate(interface=GPSIterativeTriangulationInterface())"
   ]
  },
  {
   "cell_type": "code",
   "execution_count": 33,
   "metadata": {},
   "outputs": [
    {
     "name": "stdout",
     "output_type": "stream",
     "text": [
      "Epoch 0: Station : MAYG00MYT\n",
      "Epoch 1: Station : MAYG00MYT\n",
      "Epoch 2: Station : MAYG00MYT\n",
      "Epoch 3: Station : MAYG00MYT\n",
      "Epoch 4: Station : MAYG00MYT\n",
      "Epoch 5: Station : MAYG00MYT\n",
      "Epoch 6: Station : MAYG00MYT\n",
      "Epoch 7: Station : MAYG00MYT\n",
      "Epoch 8: Station : MAYG00MYT\n",
      "Epoch 9: Station : MAYG00MYT\n"
     ]
    }
   ],
   "source": [
    "# Let print the first 10 epochs and their respective stations names\n",
    "for i , epoch in enumerate(first_10_epochs):\n",
    "    print(f'Epoch {i}: Station : {epoch.station}')\n",
    "    if i > 10:\n",
    "        break"
   ]
  },
  {
   "cell_type": "markdown",
   "metadata": {},
   "source": [
    "Seems to be the same IGS station `MAYG00MYT`. Let us try to triangulate each epoch object and see if we can get the same result."
   ]
  },
  {
   "cell_type": "code",
   "execution_count": 35,
   "metadata": {},
   "outputs": [
    {
     "data": {
      "text/plain": [
       "x         4.379255e+06\n",
       "y         4.418975e+06\n",
       "z        -1.401934e+06\n",
       "dt        3.829321e-03\n",
       "lat      -1.278183e+01\n",
       "lon       4.525866e+01\n",
       "height    2.550322e+02\n",
       "GDOP      1.963646e+00\n",
       "PDOP      1.781595e+00\n",
       "TDOP      8.257268e-01\n",
       "dtype: float64"
      ]
     },
     "execution_count": 35,
     "metadata": {},
     "output_type": "execute_result"
    }
   ],
   "source": [
    "# To get all  the information about the first epoch use the callable method. Pass no metadata for demo purposes.\n",
    "triangulator(first_10_epochs[0], obs_metadata=None, nav_metadata=None)"
   ]
  },
  {
   "cell_type": "code",
   "execution_count": 37,
   "metadata": {},
   "outputs": [
    {
     "data": {
      "text/plain": [
       "array([ 4379255.19531257,  4418975.43086052, -1401934.23049305])"
      ]
     },
     "execution_count": 37,
     "metadata": {},
     "output_type": "execute_result"
    }
   ],
   "source": [
    "# To get just the ECFC geodetic coordinates, use the coords method.\n",
    "triangulator.coords(first_10_epochs[0])"
   ]
  },
  {
   "cell_type": "code",
   "execution_count": 40,
   "metadata": {},
   "outputs": [],
   "source": [
    "# Let's  calculate the coordinates for all the first 10 epochs\n",
    "import numpy as np\n",
    "coords = []\n",
    "\n",
    "for epoch in first_10_epochs:\n",
    "    coords.append(triangulator.coords(epoch))\n",
    "    \n",
    "coords = np.array(coords)"
   ]
  },
  {
   "cell_type": "code",
   "execution_count": 44,
   "metadata": {},
   "outputs": [
    {
     "name": "stdout",
     "output_type": "stream",
     "text": [
      "Mean Coordinates: [ 4379135.04381005  4418833.16777139 -1401893.994747  ]\n",
      "Standard Deviation Coordinates: [88.1490503  90.44476746 54.96109946]\n"
     ]
    }
   ],
   "source": [
    "# Let's see the mean and standard deviation of the coordinates since this is for the same station\n",
    "print(f'Mean Coordinates: {np.mean(coords, axis=0)}')\n",
    "print(f'Standard Deviation Coordinates: {np.std(coords, axis=0)}')"
   ]
  },
  {
   "cell_type": "code",
   "execution_count": 49,
   "metadata": {},
   "outputs": [],
   "source": [
    "# Let's get the real coordinates of the station (Only works for IGS stations)\n",
    "from navigator.utility.igs_network import IGSNetwork\n",
    "\n",
    "# Create an instance of the IGSNetwork class\n",
    "network = IGSNetwork()"
   ]
  },
  {
   "cell_type": "markdown",
   "metadata": {},
   "source": [
    "`IGSNetwok` class is a container for all the IGS stations informatin. It has coordinate, name and other information for each IGS station. The `IGSNetwork` class is used by the `navigator.satlib.Triangulator` class to get the IGS station coordinate information."
   ]
  },
  {
   "cell_type": "code",
   "execution_count": 54,
   "metadata": {},
   "outputs": [
    {
     "data": {
      "text/html": [
       "<div>\n",
       "<style scoped>\n",
       "    .dataframe tbody tr th:only-of-type {\n",
       "        vertical-align: middle;\n",
       "    }\n",
       "\n",
       "    .dataframe tbody tr th {\n",
       "        vertical-align: top;\n",
       "    }\n",
       "\n",
       "    .dataframe thead th {\n",
       "        text-align: right;\n",
       "    }\n",
       "</style>\n",
       "<table border=\"1\" class=\"dataframe\">\n",
       "  <thead>\n",
       "    <tr style=\"text-align: right;\">\n",
       "      <th></th>\n",
       "      <th>X</th>\n",
       "      <th>Y</th>\n",
       "      <th>Z</th>\n",
       "      <th>Latitude</th>\n",
       "      <th>Longitude</th>\n",
       "      <th>Height</th>\n",
       "      <th>ReceiverName</th>\n",
       "      <th>ReceiverSatelliteSystem</th>\n",
       "      <th>ReceiverSerialNumber</th>\n",
       "      <th>ReceiverFirmwareVersion</th>\n",
       "      <th>ReceiverElevationCutoff</th>\n",
       "      <th>ReceiverDateInstalled</th>\n",
       "      <th>AntennaName</th>\n",
       "      <th>AntennaRadome</th>\n",
       "      <th>AntennaSerialNumber</th>\n",
       "      <th>AntennaARP</th>\n",
       "      <th>AntennaMarkerUp</th>\n",
       "      <th>AntennaMarkerNorth</th>\n",
       "      <th>AntennaMarkerEast</th>\n",
       "      <th>AntennaDateInstalled</th>\n",
       "      <th>ClockType</th>\n",
       "      <th>ClockInputFrequency</th>\n",
       "      <th>ClockEffectiveDates</th>\n",
       "    </tr>\n",
       "    <tr>\n",
       "      <th>#StationName</th>\n",
       "      <th></th>\n",
       "      <th></th>\n",
       "      <th></th>\n",
       "      <th></th>\n",
       "      <th></th>\n",
       "      <th></th>\n",
       "      <th></th>\n",
       "      <th></th>\n",
       "      <th></th>\n",
       "      <th></th>\n",
       "      <th></th>\n",
       "      <th></th>\n",
       "      <th></th>\n",
       "      <th></th>\n",
       "      <th></th>\n",
       "      <th></th>\n",
       "      <th></th>\n",
       "      <th></th>\n",
       "      <th></th>\n",
       "      <th></th>\n",
       "      <th></th>\n",
       "      <th></th>\n",
       "      <th></th>\n",
       "    </tr>\n",
       "  </thead>\n",
       "  <tbody>\n",
       "    <tr>\n",
       "      <th>ABMF00GLP</th>\n",
       "      <td>2.919786e+06</td>\n",
       "      <td>-5.383745e+06</td>\n",
       "      <td>1.774604e+06</td>\n",
       "      <td>16.262</td>\n",
       "      <td>-61.528</td>\n",
       "      <td>-25.268</td>\n",
       "      <td>SEPT POLARX5</td>\n",
       "      <td>GPS+GLO+GAL+BDS+SBAS</td>\n",
       "      <td>3013312</td>\n",
       "      <td>5.3.2</td>\n",
       "      <td>0.0</td>\n",
       "      <td>2020-02-07T10:00Z</td>\n",
       "      <td>TRM57971.00</td>\n",
       "      <td>NONE</td>\n",
       "      <td>1441112501</td>\n",
       "      <td>BAM</td>\n",
       "      <td>0.0000</td>\n",
       "      <td>0.0</td>\n",
       "      <td>0.0</td>\n",
       "      <td>2012-01-24T12:00Z</td>\n",
       "      <td>INTERNAL</td>\n",
       "      <td>NaN</td>\n",
       "      <td>2008-07-15/CCYY-MM-DD</td>\n",
       "    </tr>\n",
       "    <tr>\n",
       "      <th>ABPO00MDG</th>\n",
       "      <td>4.097217e+06</td>\n",
       "      <td>4.429119e+06</td>\n",
       "      <td>-2.065771e+06</td>\n",
       "      <td>-19.018</td>\n",
       "      <td>47.229</td>\n",
       "      <td>1553.398</td>\n",
       "      <td>SEPT POLARX5</td>\n",
       "      <td>GPS+GLO+GAL+BDS+QZSS</td>\n",
       "      <td>3013358</td>\n",
       "      <td>5.4.0</td>\n",
       "      <td>0.0</td>\n",
       "      <td>2021-01-29T21:25Z</td>\n",
       "      <td>ASH701945G_M</td>\n",
       "      <td>SCIT</td>\n",
       "      <td>CR6200342009</td>\n",
       "      <td>BPA</td>\n",
       "      <td>0.0083</td>\n",
       "      <td>0.0</td>\n",
       "      <td>0.0</td>\n",
       "      <td>2018-05-15T07:30Z</td>\n",
       "      <td>INTERNAL</td>\n",
       "      <td>NaN</td>\n",
       "      <td>2007-11-16/CCYY-MM-DD</td>\n",
       "    </tr>\n",
       "    <tr>\n",
       "      <th>AC2300USA</th>\n",
       "      <td>-2.752835e+06</td>\n",
       "      <td>-1.533597e+06</td>\n",
       "      <td>5.526823e+06</td>\n",
       "      <td>60.475</td>\n",
       "      <td>-150.878</td>\n",
       "      <td>80.744</td>\n",
       "      <td>SEPT POLARX5</td>\n",
       "      <td>GPS+GLO+GAL+BDS+QZSS</td>\n",
       "      <td>3051527</td>\n",
       "      <td>5.5.0</td>\n",
       "      <td>0.0</td>\n",
       "      <td>2023-01-17T19:26Z</td>\n",
       "      <td>TRM59800.99</td>\n",
       "      <td>SCIT</td>\n",
       "      <td>0220346564</td>\n",
       "      <td>BPA</td>\n",
       "      <td>0.0083</td>\n",
       "      <td>0.0</td>\n",
       "      <td>0.0</td>\n",
       "      <td>2021-04-28T00:30Z</td>\n",
       "      <td>INTERNAL</td>\n",
       "      <td>NaN</td>\n",
       "      <td>2007-06-15/CCYY-MM-DD</td>\n",
       "    </tr>\n",
       "    <tr>\n",
       "      <th>AC2400USA</th>\n",
       "      <td>-3.051339e+06</td>\n",
       "      <td>-1.317098e+06</td>\n",
       "      <td>5.425614e+06</td>\n",
       "      <td>58.682</td>\n",
       "      <td>-156.653</td>\n",
       "      <td>36.841</td>\n",
       "      <td>SEPT POLARX5</td>\n",
       "      <td>GPS+GLO+GAL+BDS+QZSS</td>\n",
       "      <td>3069883</td>\n",
       "      <td>5.5.0</td>\n",
       "      <td>0.0</td>\n",
       "      <td>2023-01-17T19:38Z</td>\n",
       "      <td>TRM159800.00</td>\n",
       "      <td>SCIT</td>\n",
       "      <td>5823337038</td>\n",
       "      <td>BPA</td>\n",
       "      <td>0.0083</td>\n",
       "      <td>0.0</td>\n",
       "      <td>0.0</td>\n",
       "      <td>2021-08-19T20:03Z</td>\n",
       "      <td>INTERNAL</td>\n",
       "      <td>NaN</td>\n",
       "      <td>2006-06-30/CCYY-MM-DD</td>\n",
       "    </tr>\n",
       "    <tr>\n",
       "      <th>ACRG00GHA</th>\n",
       "      <td>6.347491e+06</td>\n",
       "      <td>-2.294490e+04</td>\n",
       "      <td>6.228225e+05</td>\n",
       "      <td>5.641</td>\n",
       "      <td>-0.207</td>\n",
       "      <td>83.792</td>\n",
       "      <td>JAVAD TRE_3S</td>\n",
       "      <td>GPS+GLO+GAL+BDS+IRNSS+SBAS</td>\n",
       "      <td>4745143</td>\n",
       "      <td>4.2.00-211012</td>\n",
       "      <td>0.0</td>\n",
       "      <td>2022-09-30T12:00Z</td>\n",
       "      <td>SEPCHOKE_B3E6</td>\n",
       "      <td>NONE</td>\n",
       "      <td>5635</td>\n",
       "      <td>BPA</td>\n",
       "      <td>0.1300</td>\n",
       "      <td>0.0</td>\n",
       "      <td>0.0</td>\n",
       "      <td>2022-09-30T12:00Z</td>\n",
       "      <td>INTERNAL</td>\n",
       "      <td>NaN</td>\n",
       "      <td>2022-09-30/CCYY-MM-DD</td>\n",
       "    </tr>\n",
       "  </tbody>\n",
       "</table>\n",
       "</div>"
      ],
      "text/plain": [
       "                         X  ...    ClockEffectiveDates\n",
       "#StationName                ...                       \n",
       "ABMF00GLP     2.919786e+06  ...  2008-07-15/CCYY-MM-DD\n",
       "ABPO00MDG     4.097217e+06  ...  2007-11-16/CCYY-MM-DD\n",
       "AC2300USA    -2.752835e+06  ...  2007-06-15/CCYY-MM-DD\n",
       "AC2400USA    -3.051339e+06  ...  2006-06-30/CCYY-MM-DD\n",
       "ACRG00GHA     6.347491e+06  ...  2022-09-30/CCYY-MM-DD\n",
       "\n",
       "[5 rows x 23 columns]"
      ]
     },
     "execution_count": 54,
     "metadata": {},
     "output_type": "execute_result"
    }
   ],
   "source": [
    "network._igs_network.head() # This is a pandas dataframe containing all the IGS stations"
   ]
  },
  {
   "cell_type": "code",
   "execution_count": 55,
   "metadata": {},
   "outputs": [],
   "source": [
    "# Coordinates of the station 'MAYG00MYT'\n",
    "real_coords = network.get_xyz(station='MAYG00MYT')"
   ]
  },
  {
   "cell_type": "markdown",
   "metadata": {},
   "source": [
    "Let's plot the triangulated result on a 3D scatter plot with real IGS station coordinate highlighted as a red dot."
   ]
  },
  {
   "cell_type": "code",
   "execution_count": 58,
   "metadata": {},
   "outputs": [
    {
     "data": {
      "application/vnd.plotly.v1+json": {
       "config": {
        "plotlyServerURL": "https://plot.ly"
       },
       "data": [
        {
         "hovertemplate": "0=%{x}<br>1=%{y}<br>2=%{z}<extra></extra>",
         "legendgroup": "",
         "marker": {
          "color": "#636efa",
          "symbol": "circle"
         },
         "mode": "markers",
         "name": "",
         "scene": "scene",
         "showlegend": false,
         "type": "scatter3d",
         "x": [
          4379255.195312572,
          4379204.194901945,
          4379165.706158158,
          4379025.764855512,
          4379003.337582618,
          4379225.800518817,
          4379061.733418741,
          4379234.999614116,
          4379088.926966215,
          4379084.778771809
         ],
         "y": [
          4418975.430860516,
          4418886.821528816,
          4418864.946105349,
          4418823.440132563,
          4418699.520354062,
          4418938.268958868,
          4418804.109437175,
          4418887.0932992855,
          4418757.332742689,
          4418694.71429459
         ],
         "z": [
          -1401934.2304930463,
          -1401839.7195955033,
          -1401921.2753404141,
          -1401855.958706059,
          -1401888.3633203532,
          -1401941.592272899,
          -1401897.524459859,
          -1401838.0150916053,
          -1401818.3982793665,
          -1402004.8699108977
         ]
        },
        {
         "marker": {
          "color": "red",
          "size": 5
         },
         "mode": "markers",
         "type": "scatter3d",
         "x": [
          4379104.6069
         ],
         "y": [
          4418744.4751
         ],
         "z": [
          -1401897.9428
         ]
        }
       ],
       "layout": {
        "legend": {
         "tracegroupgap": 0
        },
        "scene": {
         "domain": {
          "x": [
           0,
           1
          ],
          "y": [
           0,
           1
          ]
         },
         "xaxis": {
          "title": {
           "text": "0"
          }
         },
         "yaxis": {
          "title": {
           "text": "1"
          }
         },
         "zaxis": {
          "title": {
           "text": "2"
          }
         }
        },
        "template": {
         "data": {
          "bar": [
           {
            "error_x": {
             "color": "#2a3f5f"
            },
            "error_y": {
             "color": "#2a3f5f"
            },
            "marker": {
             "line": {
              "color": "#E5ECF6",
              "width": 0.5
             },
             "pattern": {
              "fillmode": "overlay",
              "size": 10,
              "solidity": 0.2
             }
            },
            "type": "bar"
           }
          ],
          "barpolar": [
           {
            "marker": {
             "line": {
              "color": "#E5ECF6",
              "width": 0.5
             },
             "pattern": {
              "fillmode": "overlay",
              "size": 10,
              "solidity": 0.2
             }
            },
            "type": "barpolar"
           }
          ],
          "carpet": [
           {
            "aaxis": {
             "endlinecolor": "#2a3f5f",
             "gridcolor": "white",
             "linecolor": "white",
             "minorgridcolor": "white",
             "startlinecolor": "#2a3f5f"
            },
            "baxis": {
             "endlinecolor": "#2a3f5f",
             "gridcolor": "white",
             "linecolor": "white",
             "minorgridcolor": "white",
             "startlinecolor": "#2a3f5f"
            },
            "type": "carpet"
           }
          ],
          "choropleth": [
           {
            "colorbar": {
             "outlinewidth": 0,
             "ticks": ""
            },
            "type": "choropleth"
           }
          ],
          "contour": [
           {
            "colorbar": {
             "outlinewidth": 0,
             "ticks": ""
            },
            "colorscale": [
             [
              0,
              "#0d0887"
             ],
             [
              0.1111111111111111,
              "#46039f"
             ],
             [
              0.2222222222222222,
              "#7201a8"
             ],
             [
              0.3333333333333333,
              "#9c179e"
             ],
             [
              0.4444444444444444,
              "#bd3786"
             ],
             [
              0.5555555555555556,
              "#d8576b"
             ],
             [
              0.6666666666666666,
              "#ed7953"
             ],
             [
              0.7777777777777778,
              "#fb9f3a"
             ],
             [
              0.8888888888888888,
              "#fdca26"
             ],
             [
              1,
              "#f0f921"
             ]
            ],
            "type": "contour"
           }
          ],
          "contourcarpet": [
           {
            "colorbar": {
             "outlinewidth": 0,
             "ticks": ""
            },
            "type": "contourcarpet"
           }
          ],
          "heatmap": [
           {
            "colorbar": {
             "outlinewidth": 0,
             "ticks": ""
            },
            "colorscale": [
             [
              0,
              "#0d0887"
             ],
             [
              0.1111111111111111,
              "#46039f"
             ],
             [
              0.2222222222222222,
              "#7201a8"
             ],
             [
              0.3333333333333333,
              "#9c179e"
             ],
             [
              0.4444444444444444,
              "#bd3786"
             ],
             [
              0.5555555555555556,
              "#d8576b"
             ],
             [
              0.6666666666666666,
              "#ed7953"
             ],
             [
              0.7777777777777778,
              "#fb9f3a"
             ],
             [
              0.8888888888888888,
              "#fdca26"
             ],
             [
              1,
              "#f0f921"
             ]
            ],
            "type": "heatmap"
           }
          ],
          "heatmapgl": [
           {
            "colorbar": {
             "outlinewidth": 0,
             "ticks": ""
            },
            "colorscale": [
             [
              0,
              "#0d0887"
             ],
             [
              0.1111111111111111,
              "#46039f"
             ],
             [
              0.2222222222222222,
              "#7201a8"
             ],
             [
              0.3333333333333333,
              "#9c179e"
             ],
             [
              0.4444444444444444,
              "#bd3786"
             ],
             [
              0.5555555555555556,
              "#d8576b"
             ],
             [
              0.6666666666666666,
              "#ed7953"
             ],
             [
              0.7777777777777778,
              "#fb9f3a"
             ],
             [
              0.8888888888888888,
              "#fdca26"
             ],
             [
              1,
              "#f0f921"
             ]
            ],
            "type": "heatmapgl"
           }
          ],
          "histogram": [
           {
            "marker": {
             "pattern": {
              "fillmode": "overlay",
              "size": 10,
              "solidity": 0.2
             }
            },
            "type": "histogram"
           }
          ],
          "histogram2d": [
           {
            "colorbar": {
             "outlinewidth": 0,
             "ticks": ""
            },
            "colorscale": [
             [
              0,
              "#0d0887"
             ],
             [
              0.1111111111111111,
              "#46039f"
             ],
             [
              0.2222222222222222,
              "#7201a8"
             ],
             [
              0.3333333333333333,
              "#9c179e"
             ],
             [
              0.4444444444444444,
              "#bd3786"
             ],
             [
              0.5555555555555556,
              "#d8576b"
             ],
             [
              0.6666666666666666,
              "#ed7953"
             ],
             [
              0.7777777777777778,
              "#fb9f3a"
             ],
             [
              0.8888888888888888,
              "#fdca26"
             ],
             [
              1,
              "#f0f921"
             ]
            ],
            "type": "histogram2d"
           }
          ],
          "histogram2dcontour": [
           {
            "colorbar": {
             "outlinewidth": 0,
             "ticks": ""
            },
            "colorscale": [
             [
              0,
              "#0d0887"
             ],
             [
              0.1111111111111111,
              "#46039f"
             ],
             [
              0.2222222222222222,
              "#7201a8"
             ],
             [
              0.3333333333333333,
              "#9c179e"
             ],
             [
              0.4444444444444444,
              "#bd3786"
             ],
             [
              0.5555555555555556,
              "#d8576b"
             ],
             [
              0.6666666666666666,
              "#ed7953"
             ],
             [
              0.7777777777777778,
              "#fb9f3a"
             ],
             [
              0.8888888888888888,
              "#fdca26"
             ],
             [
              1,
              "#f0f921"
             ]
            ],
            "type": "histogram2dcontour"
           }
          ],
          "mesh3d": [
           {
            "colorbar": {
             "outlinewidth": 0,
             "ticks": ""
            },
            "type": "mesh3d"
           }
          ],
          "parcoords": [
           {
            "line": {
             "colorbar": {
              "outlinewidth": 0,
              "ticks": ""
             }
            },
            "type": "parcoords"
           }
          ],
          "pie": [
           {
            "automargin": true,
            "type": "pie"
           }
          ],
          "scatter": [
           {
            "fillpattern": {
             "fillmode": "overlay",
             "size": 10,
             "solidity": 0.2
            },
            "type": "scatter"
           }
          ],
          "scatter3d": [
           {
            "line": {
             "colorbar": {
              "outlinewidth": 0,
              "ticks": ""
             }
            },
            "marker": {
             "colorbar": {
              "outlinewidth": 0,
              "ticks": ""
             }
            },
            "type": "scatter3d"
           }
          ],
          "scattercarpet": [
           {
            "marker": {
             "colorbar": {
              "outlinewidth": 0,
              "ticks": ""
             }
            },
            "type": "scattercarpet"
           }
          ],
          "scattergeo": [
           {
            "marker": {
             "colorbar": {
              "outlinewidth": 0,
              "ticks": ""
             }
            },
            "type": "scattergeo"
           }
          ],
          "scattergl": [
           {
            "marker": {
             "colorbar": {
              "outlinewidth": 0,
              "ticks": ""
             }
            },
            "type": "scattergl"
           }
          ],
          "scattermapbox": [
           {
            "marker": {
             "colorbar": {
              "outlinewidth": 0,
              "ticks": ""
             }
            },
            "type": "scattermapbox"
           }
          ],
          "scatterpolar": [
           {
            "marker": {
             "colorbar": {
              "outlinewidth": 0,
              "ticks": ""
             }
            },
            "type": "scatterpolar"
           }
          ],
          "scatterpolargl": [
           {
            "marker": {
             "colorbar": {
              "outlinewidth": 0,
              "ticks": ""
             }
            },
            "type": "scatterpolargl"
           }
          ],
          "scatterternary": [
           {
            "marker": {
             "colorbar": {
              "outlinewidth": 0,
              "ticks": ""
             }
            },
            "type": "scatterternary"
           }
          ],
          "surface": [
           {
            "colorbar": {
             "outlinewidth": 0,
             "ticks": ""
            },
            "colorscale": [
             [
              0,
              "#0d0887"
             ],
             [
              0.1111111111111111,
              "#46039f"
             ],
             [
              0.2222222222222222,
              "#7201a8"
             ],
             [
              0.3333333333333333,
              "#9c179e"
             ],
             [
              0.4444444444444444,
              "#bd3786"
             ],
             [
              0.5555555555555556,
              "#d8576b"
             ],
             [
              0.6666666666666666,
              "#ed7953"
             ],
             [
              0.7777777777777778,
              "#fb9f3a"
             ],
             [
              0.8888888888888888,
              "#fdca26"
             ],
             [
              1,
              "#f0f921"
             ]
            ],
            "type": "surface"
           }
          ],
          "table": [
           {
            "cells": {
             "fill": {
              "color": "#EBF0F8"
             },
             "line": {
              "color": "white"
             }
            },
            "header": {
             "fill": {
              "color": "#C8D4E3"
             },
             "line": {
              "color": "white"
             }
            },
            "type": "table"
           }
          ]
         },
         "layout": {
          "annotationdefaults": {
           "arrowcolor": "#2a3f5f",
           "arrowhead": 0,
           "arrowwidth": 1
          },
          "autotypenumbers": "strict",
          "coloraxis": {
           "colorbar": {
            "outlinewidth": 0,
            "ticks": ""
           }
          },
          "colorscale": {
           "diverging": [
            [
             0,
             "#8e0152"
            ],
            [
             0.1,
             "#c51b7d"
            ],
            [
             0.2,
             "#de77ae"
            ],
            [
             0.3,
             "#f1b6da"
            ],
            [
             0.4,
             "#fde0ef"
            ],
            [
             0.5,
             "#f7f7f7"
            ],
            [
             0.6,
             "#e6f5d0"
            ],
            [
             0.7,
             "#b8e186"
            ],
            [
             0.8,
             "#7fbc41"
            ],
            [
             0.9,
             "#4d9221"
            ],
            [
             1,
             "#276419"
            ]
           ],
           "sequential": [
            [
             0,
             "#0d0887"
            ],
            [
             0.1111111111111111,
             "#46039f"
            ],
            [
             0.2222222222222222,
             "#7201a8"
            ],
            [
             0.3333333333333333,
             "#9c179e"
            ],
            [
             0.4444444444444444,
             "#bd3786"
            ],
            [
             0.5555555555555556,
             "#d8576b"
            ],
            [
             0.6666666666666666,
             "#ed7953"
            ],
            [
             0.7777777777777778,
             "#fb9f3a"
            ],
            [
             0.8888888888888888,
             "#fdca26"
            ],
            [
             1,
             "#f0f921"
            ]
           ],
           "sequentialminus": [
            [
             0,
             "#0d0887"
            ],
            [
             0.1111111111111111,
             "#46039f"
            ],
            [
             0.2222222222222222,
             "#7201a8"
            ],
            [
             0.3333333333333333,
             "#9c179e"
            ],
            [
             0.4444444444444444,
             "#bd3786"
            ],
            [
             0.5555555555555556,
             "#d8576b"
            ],
            [
             0.6666666666666666,
             "#ed7953"
            ],
            [
             0.7777777777777778,
             "#fb9f3a"
            ],
            [
             0.8888888888888888,
             "#fdca26"
            ],
            [
             1,
             "#f0f921"
            ]
           ]
          },
          "colorway": [
           "#636efa",
           "#EF553B",
           "#00cc96",
           "#ab63fa",
           "#FFA15A",
           "#19d3f3",
           "#FF6692",
           "#B6E880",
           "#FF97FF",
           "#FECB52"
          ],
          "font": {
           "color": "#2a3f5f"
          },
          "geo": {
           "bgcolor": "white",
           "lakecolor": "white",
           "landcolor": "#E5ECF6",
           "showlakes": true,
           "showland": true,
           "subunitcolor": "white"
          },
          "hoverlabel": {
           "align": "left"
          },
          "hovermode": "closest",
          "mapbox": {
           "style": "light"
          },
          "paper_bgcolor": "white",
          "plot_bgcolor": "#E5ECF6",
          "polar": {
           "angularaxis": {
            "gridcolor": "white",
            "linecolor": "white",
            "ticks": ""
           },
           "bgcolor": "#E5ECF6",
           "radialaxis": {
            "gridcolor": "white",
            "linecolor": "white",
            "ticks": ""
           }
          },
          "scene": {
           "xaxis": {
            "backgroundcolor": "#E5ECF6",
            "gridcolor": "white",
            "gridwidth": 2,
            "linecolor": "white",
            "showbackground": true,
            "ticks": "",
            "zerolinecolor": "white"
           },
           "yaxis": {
            "backgroundcolor": "#E5ECF6",
            "gridcolor": "white",
            "gridwidth": 2,
            "linecolor": "white",
            "showbackground": true,
            "ticks": "",
            "zerolinecolor": "white"
           },
           "zaxis": {
            "backgroundcolor": "#E5ECF6",
            "gridcolor": "white",
            "gridwidth": 2,
            "linecolor": "white",
            "showbackground": true,
            "ticks": "",
            "zerolinecolor": "white"
           }
          },
          "shapedefaults": {
           "line": {
            "color": "#2a3f5f"
           }
          },
          "ternary": {
           "aaxis": {
            "gridcolor": "white",
            "linecolor": "white",
            "ticks": ""
           },
           "baxis": {
            "gridcolor": "white",
            "linecolor": "white",
            "ticks": ""
           },
           "bgcolor": "#E5ECF6",
           "caxis": {
            "gridcolor": "white",
            "linecolor": "white",
            "ticks": ""
           }
          },
          "title": {
           "x": 0.05
          },
          "xaxis": {
           "automargin": true,
           "gridcolor": "white",
           "linecolor": "white",
           "ticks": "",
           "title": {
            "standoff": 15
           },
           "zerolinecolor": "white",
           "zerolinewidth": 2
          },
          "yaxis": {
           "automargin": true,
           "gridcolor": "white",
           "linecolor": "white",
           "ticks": "",
           "title": {
            "standoff": 15
           },
           "zerolinecolor": "white",
           "zerolinewidth": 2
          }
         }
        },
        "title": {
         "text": "First 10 Triangulation of MAYG00MYT"
        }
       }
      },
      "text/html": [
       "<div>                            <div id=\"60059f8b-c8a4-417f-aeb1-fa121375889b\" class=\"plotly-graph-div\" style=\"height:525px; width:100%;\"></div>            <script type=\"text/javascript\">                require([\"plotly\"], function(Plotly) {                    window.PLOTLYENV=window.PLOTLYENV || {};                                    if (document.getElementById(\"60059f8b-c8a4-417f-aeb1-fa121375889b\")) {                    Plotly.newPlot(                        \"60059f8b-c8a4-417f-aeb1-fa121375889b\",                        [{\"hovertemplate\":\"0=%{x}\\u003cbr\\u003e1=%{y}\\u003cbr\\u003e2=%{z}\\u003cextra\\u003e\\u003c\\u002fextra\\u003e\",\"legendgroup\":\"\",\"marker\":{\"color\":\"#636efa\",\"symbol\":\"circle\"},\"mode\":\"markers\",\"name\":\"\",\"scene\":\"scene\",\"showlegend\":false,\"x\":[4379255.195312572,4379204.194901945,4379165.706158158,4379025.764855512,4379003.337582618,4379225.800518817,4379061.733418741,4379234.999614116,4379088.926966215,4379084.778771809],\"y\":[4418975.430860516,4418886.821528816,4418864.946105349,4418823.440132563,4418699.520354062,4418938.268958868,4418804.109437175,4418887.0932992855,4418757.332742689,4418694.71429459],\"z\":[-1401934.2304930463,-1401839.7195955033,-1401921.2753404141,-1401855.958706059,-1401888.3633203532,-1401941.592272899,-1401897.524459859,-1401838.0150916053,-1401818.3982793665,-1402004.8699108977],\"type\":\"scatter3d\"},{\"marker\":{\"color\":\"red\",\"size\":5},\"mode\":\"markers\",\"x\":[4379104.6069],\"y\":[4418744.4751],\"z\":[-1401897.9428],\"type\":\"scatter3d\"}],                        {\"template\":{\"data\":{\"histogram2dcontour\":[{\"type\":\"histogram2dcontour\",\"colorbar\":{\"outlinewidth\":0,\"ticks\":\"\"},\"colorscale\":[[0.0,\"#0d0887\"],[0.1111111111111111,\"#46039f\"],[0.2222222222222222,\"#7201a8\"],[0.3333333333333333,\"#9c179e\"],[0.4444444444444444,\"#bd3786\"],[0.5555555555555556,\"#d8576b\"],[0.6666666666666666,\"#ed7953\"],[0.7777777777777778,\"#fb9f3a\"],[0.8888888888888888,\"#fdca26\"],[1.0,\"#f0f921\"]]}],\"choropleth\":[{\"type\":\"choropleth\",\"colorbar\":{\"outlinewidth\":0,\"ticks\":\"\"}}],\"histogram2d\":[{\"type\":\"histogram2d\",\"colorbar\":{\"outlinewidth\":0,\"ticks\":\"\"},\"colorscale\":[[0.0,\"#0d0887\"],[0.1111111111111111,\"#46039f\"],[0.2222222222222222,\"#7201a8\"],[0.3333333333333333,\"#9c179e\"],[0.4444444444444444,\"#bd3786\"],[0.5555555555555556,\"#d8576b\"],[0.6666666666666666,\"#ed7953\"],[0.7777777777777778,\"#fb9f3a\"],[0.8888888888888888,\"#fdca26\"],[1.0,\"#f0f921\"]]}],\"heatmap\":[{\"type\":\"heatmap\",\"colorbar\":{\"outlinewidth\":0,\"ticks\":\"\"},\"colorscale\":[[0.0,\"#0d0887\"],[0.1111111111111111,\"#46039f\"],[0.2222222222222222,\"#7201a8\"],[0.3333333333333333,\"#9c179e\"],[0.4444444444444444,\"#bd3786\"],[0.5555555555555556,\"#d8576b\"],[0.6666666666666666,\"#ed7953\"],[0.7777777777777778,\"#fb9f3a\"],[0.8888888888888888,\"#fdca26\"],[1.0,\"#f0f921\"]]}],\"heatmapgl\":[{\"type\":\"heatmapgl\",\"colorbar\":{\"outlinewidth\":0,\"ticks\":\"\"},\"colorscale\":[[0.0,\"#0d0887\"],[0.1111111111111111,\"#46039f\"],[0.2222222222222222,\"#7201a8\"],[0.3333333333333333,\"#9c179e\"],[0.4444444444444444,\"#bd3786\"],[0.5555555555555556,\"#d8576b\"],[0.6666666666666666,\"#ed7953\"],[0.7777777777777778,\"#fb9f3a\"],[0.8888888888888888,\"#fdca26\"],[1.0,\"#f0f921\"]]}],\"contourcarpet\":[{\"type\":\"contourcarpet\",\"colorbar\":{\"outlinewidth\":0,\"ticks\":\"\"}}],\"contour\":[{\"type\":\"contour\",\"colorbar\":{\"outlinewidth\":0,\"ticks\":\"\"},\"colorscale\":[[0.0,\"#0d0887\"],[0.1111111111111111,\"#46039f\"],[0.2222222222222222,\"#7201a8\"],[0.3333333333333333,\"#9c179e\"],[0.4444444444444444,\"#bd3786\"],[0.5555555555555556,\"#d8576b\"],[0.6666666666666666,\"#ed7953\"],[0.7777777777777778,\"#fb9f3a\"],[0.8888888888888888,\"#fdca26\"],[1.0,\"#f0f921\"]]}],\"surface\":[{\"type\":\"surface\",\"colorbar\":{\"outlinewidth\":0,\"ticks\":\"\"},\"colorscale\":[[0.0,\"#0d0887\"],[0.1111111111111111,\"#46039f\"],[0.2222222222222222,\"#7201a8\"],[0.3333333333333333,\"#9c179e\"],[0.4444444444444444,\"#bd3786\"],[0.5555555555555556,\"#d8576b\"],[0.6666666666666666,\"#ed7953\"],[0.7777777777777778,\"#fb9f3a\"],[0.8888888888888888,\"#fdca26\"],[1.0,\"#f0f921\"]]}],\"mesh3d\":[{\"type\":\"mesh3d\",\"colorbar\":{\"outlinewidth\":0,\"ticks\":\"\"}}],\"scatter\":[{\"fillpattern\":{\"fillmode\":\"overlay\",\"size\":10,\"solidity\":0.2},\"type\":\"scatter\"}],\"parcoords\":[{\"type\":\"parcoords\",\"line\":{\"colorbar\":{\"outlinewidth\":0,\"ticks\":\"\"}}}],\"scatterpolargl\":[{\"type\":\"scatterpolargl\",\"marker\":{\"colorbar\":{\"outlinewidth\":0,\"ticks\":\"\"}}}],\"bar\":[{\"error_x\":{\"color\":\"#2a3f5f\"},\"error_y\":{\"color\":\"#2a3f5f\"},\"marker\":{\"line\":{\"color\":\"#E5ECF6\",\"width\":0.5},\"pattern\":{\"fillmode\":\"overlay\",\"size\":10,\"solidity\":0.2}},\"type\":\"bar\"}],\"scattergeo\":[{\"type\":\"scattergeo\",\"marker\":{\"colorbar\":{\"outlinewidth\":0,\"ticks\":\"\"}}}],\"scatterpolar\":[{\"type\":\"scatterpolar\",\"marker\":{\"colorbar\":{\"outlinewidth\":0,\"ticks\":\"\"}}}],\"histogram\":[{\"marker\":{\"pattern\":{\"fillmode\":\"overlay\",\"size\":10,\"solidity\":0.2}},\"type\":\"histogram\"}],\"scattergl\":[{\"type\":\"scattergl\",\"marker\":{\"colorbar\":{\"outlinewidth\":0,\"ticks\":\"\"}}}],\"scatter3d\":[{\"type\":\"scatter3d\",\"line\":{\"colorbar\":{\"outlinewidth\":0,\"ticks\":\"\"}},\"marker\":{\"colorbar\":{\"outlinewidth\":0,\"ticks\":\"\"}}}],\"scattermapbox\":[{\"type\":\"scattermapbox\",\"marker\":{\"colorbar\":{\"outlinewidth\":0,\"ticks\":\"\"}}}],\"scatterternary\":[{\"type\":\"scatterternary\",\"marker\":{\"colorbar\":{\"outlinewidth\":0,\"ticks\":\"\"}}}],\"scattercarpet\":[{\"type\":\"scattercarpet\",\"marker\":{\"colorbar\":{\"outlinewidth\":0,\"ticks\":\"\"}}}],\"carpet\":[{\"aaxis\":{\"endlinecolor\":\"#2a3f5f\",\"gridcolor\":\"white\",\"linecolor\":\"white\",\"minorgridcolor\":\"white\",\"startlinecolor\":\"#2a3f5f\"},\"baxis\":{\"endlinecolor\":\"#2a3f5f\",\"gridcolor\":\"white\",\"linecolor\":\"white\",\"minorgridcolor\":\"white\",\"startlinecolor\":\"#2a3f5f\"},\"type\":\"carpet\"}],\"table\":[{\"cells\":{\"fill\":{\"color\":\"#EBF0F8\"},\"line\":{\"color\":\"white\"}},\"header\":{\"fill\":{\"color\":\"#C8D4E3\"},\"line\":{\"color\":\"white\"}},\"type\":\"table\"}],\"barpolar\":[{\"marker\":{\"line\":{\"color\":\"#E5ECF6\",\"width\":0.5},\"pattern\":{\"fillmode\":\"overlay\",\"size\":10,\"solidity\":0.2}},\"type\":\"barpolar\"}],\"pie\":[{\"automargin\":true,\"type\":\"pie\"}]},\"layout\":{\"autotypenumbers\":\"strict\",\"colorway\":[\"#636efa\",\"#EF553B\",\"#00cc96\",\"#ab63fa\",\"#FFA15A\",\"#19d3f3\",\"#FF6692\",\"#B6E880\",\"#FF97FF\",\"#FECB52\"],\"font\":{\"color\":\"#2a3f5f\"},\"hovermode\":\"closest\",\"hoverlabel\":{\"align\":\"left\"},\"paper_bgcolor\":\"white\",\"plot_bgcolor\":\"#E5ECF6\",\"polar\":{\"bgcolor\":\"#E5ECF6\",\"angularaxis\":{\"gridcolor\":\"white\",\"linecolor\":\"white\",\"ticks\":\"\"},\"radialaxis\":{\"gridcolor\":\"white\",\"linecolor\":\"white\",\"ticks\":\"\"}},\"ternary\":{\"bgcolor\":\"#E5ECF6\",\"aaxis\":{\"gridcolor\":\"white\",\"linecolor\":\"white\",\"ticks\":\"\"},\"baxis\":{\"gridcolor\":\"white\",\"linecolor\":\"white\",\"ticks\":\"\"},\"caxis\":{\"gridcolor\":\"white\",\"linecolor\":\"white\",\"ticks\":\"\"}},\"coloraxis\":{\"colorbar\":{\"outlinewidth\":0,\"ticks\":\"\"}},\"colorscale\":{\"sequential\":[[0.0,\"#0d0887\"],[0.1111111111111111,\"#46039f\"],[0.2222222222222222,\"#7201a8\"],[0.3333333333333333,\"#9c179e\"],[0.4444444444444444,\"#bd3786\"],[0.5555555555555556,\"#d8576b\"],[0.6666666666666666,\"#ed7953\"],[0.7777777777777778,\"#fb9f3a\"],[0.8888888888888888,\"#fdca26\"],[1.0,\"#f0f921\"]],\"sequentialminus\":[[0.0,\"#0d0887\"],[0.1111111111111111,\"#46039f\"],[0.2222222222222222,\"#7201a8\"],[0.3333333333333333,\"#9c179e\"],[0.4444444444444444,\"#bd3786\"],[0.5555555555555556,\"#d8576b\"],[0.6666666666666666,\"#ed7953\"],[0.7777777777777778,\"#fb9f3a\"],[0.8888888888888888,\"#fdca26\"],[1.0,\"#f0f921\"]],\"diverging\":[[0,\"#8e0152\"],[0.1,\"#c51b7d\"],[0.2,\"#de77ae\"],[0.3,\"#f1b6da\"],[0.4,\"#fde0ef\"],[0.5,\"#f7f7f7\"],[0.6,\"#e6f5d0\"],[0.7,\"#b8e186\"],[0.8,\"#7fbc41\"],[0.9,\"#4d9221\"],[1,\"#276419\"]]},\"xaxis\":{\"gridcolor\":\"white\",\"linecolor\":\"white\",\"ticks\":\"\",\"title\":{\"standoff\":15},\"zerolinecolor\":\"white\",\"automargin\":true,\"zerolinewidth\":2},\"yaxis\":{\"gridcolor\":\"white\",\"linecolor\":\"white\",\"ticks\":\"\",\"title\":{\"standoff\":15},\"zerolinecolor\":\"white\",\"automargin\":true,\"zerolinewidth\":2},\"scene\":{\"xaxis\":{\"backgroundcolor\":\"#E5ECF6\",\"gridcolor\":\"white\",\"linecolor\":\"white\",\"showbackground\":true,\"ticks\":\"\",\"zerolinecolor\":\"white\",\"gridwidth\":2},\"yaxis\":{\"backgroundcolor\":\"#E5ECF6\",\"gridcolor\":\"white\",\"linecolor\":\"white\",\"showbackground\":true,\"ticks\":\"\",\"zerolinecolor\":\"white\",\"gridwidth\":2},\"zaxis\":{\"backgroundcolor\":\"#E5ECF6\",\"gridcolor\":\"white\",\"linecolor\":\"white\",\"showbackground\":true,\"ticks\":\"\",\"zerolinecolor\":\"white\",\"gridwidth\":2}},\"shapedefaults\":{\"line\":{\"color\":\"#2a3f5f\"}},\"annotationdefaults\":{\"arrowcolor\":\"#2a3f5f\",\"arrowhead\":0,\"arrowwidth\":1},\"geo\":{\"bgcolor\":\"white\",\"landcolor\":\"#E5ECF6\",\"subunitcolor\":\"white\",\"showland\":true,\"showlakes\":true,\"lakecolor\":\"white\"},\"title\":{\"x\":0.05},\"mapbox\":{\"style\":\"light\"}}},\"scene\":{\"domain\":{\"x\":[0.0,1.0],\"y\":[0.0,1.0]},\"xaxis\":{\"title\":{\"text\":\"0\"}},\"yaxis\":{\"title\":{\"text\":\"1\"}},\"zaxis\":{\"title\":{\"text\":\"2\"}}},\"legend\":{\"tracegroupgap\":0},\"title\":{\"text\":\"First 10 Triangulation of MAYG00MYT\"}},                        {\"responsive\": true}                    ).then(function(){\n",
       "                            \n",
       "var gd = document.getElementById('60059f8b-c8a4-417f-aeb1-fa121375889b');\n",
       "var x = new MutationObserver(function (mutations, observer) {{\n",
       "        var display = window.getComputedStyle(gd).display;\n",
       "        if (!display || display === 'none') {{\n",
       "            console.log([gd, 'removed!']);\n",
       "            Plotly.purge(gd);\n",
       "            observer.disconnect();\n",
       "        }}\n",
       "}});\n",
       "\n",
       "// Listen for the removal of the full notebook cells\n",
       "var notebookContainer = gd.closest('#notebook-container');\n",
       "if (notebookContainer) {{\n",
       "    x.observe(notebookContainer, {childList: true});\n",
       "}}\n",
       "\n",
       "// Listen for the clearing of the current output cell\n",
       "var outputEl = gd.closest('.output');\n",
       "if (outputEl) {{\n",
       "    x.observe(outputEl, {childList: true});\n",
       "}}\n",
       "\n",
       "                        })                };                });            </script>        </div>"
      ]
     },
     "metadata": {},
     "output_type": "display_data"
    }
   ],
   "source": [
    "import plotly.express as px\n",
    "\n",
    "\n",
    "fig = px.scatter_3d(coords, x=0, y=1, z=2, title='First 10 Triangulation of MAYG00MYT')\n",
    "\n",
    "# Add the real coordinates of the station hilghlighted in red\n",
    "fig.add_scatter3d(x=[real_coords[0]], y=[real_coords[1]], z=[real_coords[2]], mode='markers', marker=dict(color='red', size=5))"
   ]
  }
 ],
 "metadata": {
  "kernelspec": {
   "display_name": "navigator-GnQtxuOU-py3.10",
   "language": "python",
   "name": "python3"
  },
  "language_info": {
   "codemirror_mode": {
    "name": "ipython",
    "version": 3
   },
   "file_extension": ".py",
   "mimetype": "text/x-python",
   "name": "python",
   "nbconvert_exporter": "python",
   "pygments_lexer": "ipython3",
   "version": "3.10.12"
  }
 },
 "nbformat": 4,
 "nbformat_minor": 2
}
